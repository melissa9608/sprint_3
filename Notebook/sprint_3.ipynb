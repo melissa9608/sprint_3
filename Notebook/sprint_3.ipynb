{
 "cells": [
  {
   "cell_type": "markdown",
   "id": "3Xg_RQfnafXz",
   "metadata": {
    "id": "3Xg_RQfnafXz"
   },
   "source": [
    "# ¡Llena ese carrito!"
   ]
  },
  {
   "cell_type": "markdown",
   "id": "mhIvmmkW414q",
   "metadata": {
    "id": "mhIvmmkW414q"
   },
   "source": [
    "# Introducción\n",
    "\n",
    "Instacart es una plataforma de entregas de comestibles donde la clientela puede registrar un pedido y hacer que se lo entreguen, similar a Uber Eats y Door Dash.\n",
    "El conjunto de datos que te hemos proporcionado tiene modificaciones del original. Redujimos el tamaño del conjunto para que tus cálculos se hicieran más rápido e introdujimos valores ausentes y duplicados. Tuvimos cuidado de conservar las distribuciones de los datos originales cuando hicimos los cambios.\n",
    "\n",
    "Debes completar tres pasos. Para cada uno de ellos, escribe una breve introducción que refleje con claridad cómo pretendes resolver cada paso, y escribe párrafos explicatorios que justifiquen tus decisiones al tiempo que avanzas en tu solución.  También escribe una conclusión que resuma tus hallazgos y elecciones.\n"
   ]
  },
  {
   "cell_type": "markdown",
   "id": "3MbyzpOQZ5Or",
   "metadata": {
    "id": "3MbyzpOQZ5Or"
   },
   "source": [
    "## Diccionario de datos\n",
    "\n",
    "Hay cinco tablas en el conjunto de datos, y tendrás que usarlas todas para hacer el preprocesamiento de datos y el análisis exploratorio de datos. A continuación se muestra un diccionario de datos que enumera las columnas de cada tabla y describe los datos que contienen.\n",
    "\n",
    "- `instacart_orders.csv`: cada fila corresponde a un pedido en la aplicación Instacart.\n",
    "    - `'order_id'`: número de ID que identifica de manera única cada pedido.\n",
    "    - `'user_id'`: número de ID que identifica de manera única la cuenta de cada cliente.\n",
    "    - `'order_number'`: el número de veces que este cliente ha hecho un pedido.\n",
    "    - `'order_dow'`: día de la semana en que se hizo el pedido (0 si es domingo).\n",
    "    - `'order_hour_of_day'`: hora del día en que se hizo el pedido.\n",
    "    - `'days_since_prior_order'`: número de días transcurridos desde que este cliente hizo su pedido anterior.\n",
    "- `products.csv`: cada fila corresponde a un producto único que pueden comprar los clientes.\n",
    "    - `'product_id'`: número ID que identifica de manera única cada producto.\n",
    "    - `'product_name'`: nombre del producto.\n",
    "    - `'aisle_id'`: número ID que identifica de manera única cada categoría de pasillo de víveres.\n",
    "    - `'department_id'`: número ID que identifica de manera única cada departamento de víveres.\n",
    "- `order_products.csv`: cada fila corresponde a un artículo pedido en un pedido.\n",
    "    - `'order_id'`: número de ID que identifica de manera única cada pedido.\n",
    "    - `'product_id'`: número ID que identifica de manera única cada producto.\n",
    "    - `'add_to_cart_order'`: el orden secuencial en el que se añadió cada artículo en el carrito.\n",
    "    - `'reordered'`: 0 si el cliente nunca ha pedido este producto antes, 1 si lo ha pedido.\n",
    "- `aisles.csv`\n",
    "    - `'aisle_id'`: número ID que identifica de manera única cada categoría de pasillo de víveres.\n",
    "    - `'aisle'`: nombre del pasillo.\n",
    "- `departments.csv`\n",
    "    - `'department_id'`: número ID que identifica de manera única cada departamento de víveres.\n",
    "    - `'department'`: nombre del departamento."
   ]
  },
  {
   "cell_type": "markdown",
   "id": "n3Ha_cNSZ8lK",
   "metadata": {
    "id": "n3Ha_cNSZ8lK"
   },
   "source": [
    "# Paso 1. Descripción de los datos\n",
    "\n",
    "Lee los archivos de datos (`/datasets/instacart_orders.csv`, `/datasets/products.csv`, `/datasets/aisles.csv`, `/datasets/departments.csv` y `/datasets/order_products.csv`) con `pd.read_csv()` usando los parámetros adecuados para leer los datos correctamente. Verifica la información para cada DataFrame creado.\n"
   ]
  },
  {
   "cell_type": "markdown",
   "id": "OmlQPLlyaAfR",
   "metadata": {
    "id": "OmlQPLlyaAfR"
   },
   "source": [
    "## Plan de solución\n",
    "\n",
    "Escribe aquí tu plan de solución para el Paso 1. Descripción de los datos."
   ]
  },
  {
   "cell_type": "code",
   "execution_count": 1,
   "id": "fbf1adab",
   "metadata": {
    "id": "fbf1adab"
   },
   "outputs": [],
   "source": [
    "# importar librerías\n",
    "import pandas as pd\n",
    "from matplotlib import pyplot as plt"
   ]
  },
  {
   "cell_type": "code",
   "execution_count": null,
   "id": "ad6a1efa",
   "metadata": {
    "id": "ad6a1efa"
   },
   "outputs": [
    {
     "name": "stdout",
     "output_type": "stream",
     "text": [
      "<class 'pandas.core.frame.DataFrame'>\n",
      "RangeIndex: 478967 entries, 0 to 478966\n",
      "Data columns (total 6 columns):\n",
      " #   Column                  Non-Null Count   Dtype  \n",
      "---  ------                  --------------   -----  \n",
      " 0   order_id                478967 non-null  int64  \n",
      " 1   user_id                 478967 non-null  int64  \n",
      " 2   order_number            478967 non-null  int64  \n",
      " 3   order_dow               478967 non-null  int64  \n",
      " 4   order_hour_of_day       478967 non-null  int64  \n",
      " 5   days_since_prior_order  450148 non-null  float64\n",
      "dtypes: float64(1), int64(5)\n",
      "memory usage: 21.9 MB\n"
     ]
    },
    {
     "data": {
      "text/plain": [
       "None"
      ]
     },
     "metadata": {},
     "output_type": "display_data"
    }
   ],
   "source": [
    "# mostrar información del DataFrame\n",
    "display(df_instacart_orders.info(show_counts=True))"
   ]
  },
  {
   "cell_type": "code",
   "execution_count": null,
   "id": "5130e05e",
   "metadata": {
    "id": "5130e05e"
   },
   "outputs": [
    {
     "name": "stdout",
     "output_type": "stream",
     "text": [
      "<class 'pandas.core.frame.DataFrame'>\n",
      "RangeIndex: 49694 entries, 0 to 49693\n",
      "Data columns (total 4 columns):\n",
      " #   Column         Non-Null Count  Dtype \n",
      "---  ------         --------------  ----- \n",
      " 0   product_id     49694 non-null  int64 \n",
      " 1   product_name   48436 non-null  object\n",
      " 2   aisle_id       49694 non-null  int64 \n",
      " 3   department_id  49694 non-null  int64 \n",
      "dtypes: int64(3), object(1)\n",
      "memory usage: 1.5+ MB\n"
     ]
    },
    {
     "data": {
      "text/plain": [
       "None"
      ]
     },
     "metadata": {},
     "output_type": "display_data"
    }
   ],
   "source": [
    "# mostrar información del DataFrame\n",
    "display(df_products.info(show_counts=True))"
   ]
  },
  {
   "cell_type": "code",
   "execution_count": null,
   "id": "d8370c05",
   "metadata": {
    "id": "d8370c05"
   },
   "outputs": [
    {
     "name": "stdout",
     "output_type": "stream",
     "text": [
      "<class 'pandas.core.frame.DataFrame'>\n",
      "RangeIndex: 134 entries, 0 to 133\n",
      "Data columns (total 2 columns):\n",
      " #   Column    Non-Null Count  Dtype \n",
      "---  ------    --------------  ----- \n",
      " 0   aisle_id  134 non-null    int64 \n",
      " 1   aisle     134 non-null    object\n",
      "dtypes: int64(1), object(1)\n",
      "memory usage: 2.2+ KB\n"
     ]
    },
    {
     "data": {
      "text/plain": [
       "None"
      ]
     },
     "metadata": {},
     "output_type": "display_data"
    }
   ],
   "source": [
    "# mostrar información del DataFrame\n",
    "display(df_aisles.info(show_counts=True))"
   ]
  },
  {
   "cell_type": "code",
   "execution_count": null,
   "id": "59e2090f",
   "metadata": {
    "id": "59e2090f"
   },
   "outputs": [
    {
     "name": "stdout",
     "output_type": "stream",
     "text": [
      "<class 'pandas.core.frame.DataFrame'>\n",
      "RangeIndex: 21 entries, 0 to 20\n",
      "Data columns (total 2 columns):\n",
      " #   Column         Non-Null Count  Dtype \n",
      "---  ------         --------------  ----- \n",
      " 0   department_id  21 non-null     int64 \n",
      " 1   department     21 non-null     object\n",
      "dtypes: int64(1), object(1)\n",
      "memory usage: 464.0+ bytes\n"
     ]
    },
    {
     "data": {
      "text/plain": [
       "None"
      ]
     },
     "metadata": {},
     "output_type": "display_data"
    }
   ],
   "source": [
    "# mostrar información del DataFrame\n",
    "display(df_departments.info(show_counts=True))"
   ]
  },
  {
   "cell_type": "code",
   "execution_count": null,
   "id": "6fc81694",
   "metadata": {
    "id": "6fc81694"
   },
   "outputs": [
    {
     "name": "stdout",
     "output_type": "stream",
     "text": [
      "<class 'pandas.core.frame.DataFrame'>\n",
      "RangeIndex: 4545007 entries, 0 to 4545006\n",
      "Data columns (total 4 columns):\n",
      " #   Column             Non-Null Count    Dtype  \n",
      "---  ------             --------------    -----  \n",
      " 0   order_id           4545007 non-null  int64  \n",
      " 1   product_id         4545007 non-null  int64  \n",
      " 2   add_to_cart_order  4544171 non-null  float64\n",
      " 3   reordered          4545007 non-null  int64  \n",
      "dtypes: float64(1), int64(3)\n",
      "memory usage: 138.7 MB\n"
     ]
    },
    {
     "data": {
      "text/plain": [
       "None"
      ]
     },
     "metadata": {},
     "output_type": "display_data"
    }
   ],
   "source": [
    "# mostrar información del DataFrame\n",
    "display(df_order_products.info(show_counts=True))"
   ]
  },
  {
   "cell_type": "markdown",
   "id": "t75BD19oaR5f",
   "metadata": {
    "id": "t75BD19oaR5f"
   },
   "source": [
    "## Conclusiones\n",
    "\n",
    "Escribe aquí tus conclusiones intermedias sobre el Paso 1. Descripción de los datos.\n",
    "\n",
    "\n",
    "Utilizanto el método info() se puede obtener la siguiente información de cada uno de los DataFrame\n",
    "\n",
    "- DataFrame instacart_orders\n",
    "\n",
    "Número de filas: 478967 (RangeIndex: 478967 entries)\n",
    "\n",
    "Número de columnas: 6 \n",
    "\n",
    "Nombre de cada columna: order_id;user_id;order_number;order_dow;order_hour_of_day;days_since_prior_order\n",
    "\n",
    "Valores ausentes:\n",
    "La única con valores ausentes es days_since_prior_order con 450148 entradas, un valor mucho menor del número de filas del DataFrame que es de 478967 filas.\n",
    "\n",
    "Tipo de datos: Todas las columnas tienen datos tipo entero, excepto days_since_prior_order que tiene un tipo de datos flotante\n",
    "\n",
    "- DataFrame products\n",
    "\n",
    "Número de filas: 49694 (RangeIndex: 49694 entries)\n",
    "\n",
    "Número de columnas: 4  \n",
    "\n",
    "Nombre de cada columna: product_id;product_name;aisle_id;department_id \n",
    "\n",
    "Valores ausentes:\n",
    "La única con valores ausentes es product_name con 48436 entradas, un valor mucho menor del número de filas del DataFrame que es de 49694 filas.\n",
    "\n",
    "Tipo de datos: Todas las columnas tienen datos tipo entero, excepto product_name que tiene un tipo de datos object\n",
    "\n",
    "\n",
    "- DataFrame aisles\n",
    "\n",
    "Número de filas: 134 (RangeIndex: 134 entries)\n",
    "\n",
    "Número de columnas: 2 \n",
    "\n",
    "Nombre de cada columna: aisle_id;aisle\n",
    "\n",
    "Valores ausentes:\n",
    "No hay columnas con valores ausentes\n",
    "\n",
    "Tipo de datos: la columna aisle_id tiene un tipo de dato entero, la columna aisle tiene un tipo de datos object\n",
    "\n",
    "- DataFrame departments\n",
    "\n",
    "Número de filas: 21 (RangeIndex: 21 entries)\n",
    "\n",
    "Número de columnas: 2 \n",
    "\n",
    "Nombre de cada columna: department_id;department\n",
    "\n",
    "Valores ausentes:\n",
    "No hay columnas con valores ausentes\n",
    "\n",
    "Tipo de datos: la columna department_id tiene un tipo de dato entero, la columna department tiene un tipo de datos object\n",
    "\n",
    "\n",
    "- DataFrame order_products\n",
    "\n",
    "Número de filas: 4545007 (RangeIndex: 21 entries)\n",
    "\n",
    "Número de columnas: 4\n",
    "Nombre de cada columna: order_id;product_id;add_to_cart_order;reordered\n",
    "\n",
    "Valores ausentes:\n",
    "La única con valores ausentes es add_to_cart_order con 4544171 entradas, un valor mucho menor del número de filas del DataFrame que es de 4545007 filas.\n",
    "\n",
    "Tipo de datos: Todas las columnas tienen datos tipo entero, excepto add_to_cart_order que tiene un tipo de datos flotante\n",
    "\n",
    "\n",
    "Según la información de los DataFrame proporcionados por el método info(), algunas de las columnas de los DataFrame tienen valores ausentes, por lo que se debe proceder a tratar dichos datos."
   ]
  },
  {
   "cell_type": "markdown",
   "id": "8RJHqxVmaVsF",
   "metadata": {
    "id": "8RJHqxVmaVsF"
   },
   "source": [
    "# Paso 2. Preprocesamiento de los datos\n",
    "\n",
    "Preprocesa los datos de la siguiente manera:\n",
    "\n",
    "- Verifica y corrige los tipos de datos (por ejemplo, asegúrate de que las columnas de ID sean números enteros).\n",
    "- Identifica y completa los valores ausentes.\n",
    "- Identifica y elimina los valores duplicados.\n",
    "\n",
    "Asegúrate de explicar qué tipos de valores ausentes y duplicados encontraste, cómo los completaste o eliminaste y por qué usaste esos métodos. ¿Por qué crees que estos valores ausentes y duplicados pueden haber estado presentes en el conjunto de datos?"
   ]
  },
  {
   "cell_type": "markdown",
   "id": "p6poABZQaZYb",
   "metadata": {
    "id": "p6poABZQaZYb"
   },
   "source": [
    "## Plan de solución\n",
    "\n",
    "Escribe aquí tu plan para el Paso 2. Preprocesamiento de los datos.\n",
    "\n",
    "\n",
    "info() solo reconocerá valores ausentes \"verdaderos\" como nulos (None o NaN), mientras que los valores ausentes representados por cualquier otra cosa no se considerarán como ausentes.\n",
    "\n",
    "\n",
    "Según la información de los DataFrame proporcionados por el método info(), algunas de las columnas de los DataFrame tienen valores ausentes, por lo que se debe proceder a tratar dichos datos.\n",
    "Para comprobarlo vamos a usar isna().sum() que nos devuelve el número de valores ausentes dentro del conjunto de datos, y se proceguirá a reemplazar el valor NaN con un vlaor adecuado. Después se buscarán los valores duplicados con duplicated().sum() y se usará drop_duplicates() para eliminarlos.\n"
   ]
  },
  {
   "cell_type": "code",
   "execution_count": null,
   "id": "6eed17ba",
   "metadata": {},
   "outputs": [
    {
     "data": {
      "text/plain": [
       "order_id                      0\n",
       "user_id                       0\n",
       "order_number                  0\n",
       "order_dow                     0\n",
       "order_hour_of_day             0\n",
       "days_since_prior_order    28819\n",
       "dtype: int64"
      ]
     },
     "metadata": {},
     "output_type": "display_data"
    },
    {
     "data": {
      "text/plain": [
       "product_id          0\n",
       "product_name     1258\n",
       "aisle_id            0\n",
       "department_id       0\n",
       "dtype: int64"
      ]
     },
     "metadata": {},
     "output_type": "display_data"
    },
    {
     "data": {
      "text/plain": [
       "aisle_id    0\n",
       "aisle       0\n",
       "dtype: int64"
      ]
     },
     "metadata": {},
     "output_type": "display_data"
    },
    {
     "data": {
      "text/plain": [
       "department_id    0\n",
       "department       0\n",
       "dtype: int64"
      ]
     },
     "metadata": {},
     "output_type": "display_data"
    },
    {
     "data": {
      "text/plain": [
       "order_id               0\n",
       "product_id             0\n",
       "add_to_cart_order    836\n",
       "reordered              0\n",
       "dtype: int64"
      ]
     },
     "metadata": {},
     "output_type": "display_data"
    }
   ],
   "source": [
    "#Suma los valores ausentes\n",
    "display(df_instacart_orders.isna().sum())\n",
    "display(df_products.isna().sum())\n",
    "display(df_aisles.isna().sum())\n",
    "display(df_departments.isna().sum())\n",
    "display(df_order_products.isna().sum())"
   ]
  },
  {
   "cell_type": "markdown",
   "id": "07357848-dc64-4156-9cc3-01ff4365226d",
   "metadata": {
    "id": "07357848-dc64-4156-9cc3-01ff4365226d"
   },
   "source": [
    "## Encuentra y elimina los valores duplicados (y describe cómo tomaste tus decisiones)."
   ]
  },
  {
   "cell_type": "markdown",
   "id": "f179f0a9",
   "metadata": {
    "id": "f179f0a9"
   },
   "source": [
    "### `orders` data frame"
   ]
  },
  {
   "cell_type": "code",
   "execution_count": null,
   "id": "b99297a5-405a-463d-8535-9adc3da4ad74",
   "metadata": {
    "id": "b99297a5-405a-463d-8535-9adc3da4ad74"
   },
   "outputs": [
    {
     "name": "stdout",
     "output_type": "stream",
     "text": [
      "Valores duplicados:  15\n",
      "\n"
     ]
    },
    {
     "data": {
      "text/plain": [
       "order_id  user_id  order_number  order_dow  order_hour_of_day  days_since_prior_order\n",
       "1021560   53767    3             3          2                  9.0                       2\n",
       "467134    63189    21            3          2                  2.0                       2\n",
       "391768    57671    19            3          2                  10.0                      2\n",
       "2282673   86751    49            3          2                  2.0                       2\n",
       "408114    68324    4             3          2                  18.0                      2\n",
       "                                                                                        ..\n",
       "1141863   88987    2             1          11                 14.0                      1\n",
       "1141854   125458   91            6          8                  2.0                       1\n",
       "1141847   156072   4             2          21                 6.0                       1\n",
       "1141845   153218   2             3          8                  6.0                       1\n",
       "3421079   108687   6             1          13                 0.0                       1\n",
       "Length: 450135, dtype: int64"
      ]
     },
     "metadata": {},
     "output_type": "display_data"
    }
   ],
   "source": [
    "# Revisa si hay pedidos duplicados\n",
    "print('Valores duplicados: ',df_instacart_orders.duplicated().sum())\n",
    "print()\n",
    "display(df_instacart_orders.value_counts())"
   ]
  },
  {
   "cell_type": "markdown",
   "id": "PEkwUX_gvt5A",
   "metadata": {
    "id": "PEkwUX_gvt5A"
   },
   "source": [
    "¿Tienes líneas duplicadas? Si sí, ¿qué tienen en común?\n",
    "\n",
    "\n",
    "Hay 15 filas duplicadas. Las filas duplicadas tienen en común la hora del día en la que se hizo el pedido. En este caso miercoles a las 2."
   ]
  },
  {
   "cell_type": "code",
   "execution_count": null,
   "id": "0d44de5d",
   "metadata": {
    "id": "0d44de5d"
   },
   "outputs": [
    {
     "name": "stdout",
     "output_type": "stream",
     "text": [
      "Valores duplicados:  15\n",
      "\n"
     ]
    },
    {
     "data": {
      "text/plain": [
       "order_id  user_id  order_number  order_dow  order_hour_of_day  days_since_prior_order\n",
       "794638    50898    24            3          2                  2.0                       2\n",
       "1919531   191501   32            3          2                  7.0                       2\n",
       "2845099   31189    11            3          2                  7.0                       2\n",
       "467134    63189    21            3          2                  2.0                       2\n",
       "1112182   202304   84            3          2                  6.0                       2\n",
       "                                                                                        ..\n",
       "898850    14380    4             3          2                  30.0                      1\n",
       "851025    168387   54            3          2                  15.0                      1\n",
       "819551    29545    15            3          2                  4.0                       1\n",
       "781491    51960    5             3          2                  30.0                      1\n",
       "3389820   21703    2             3          2                  11.0                      1\n",
       "Length: 101, dtype: int64"
      ]
     },
     "metadata": {},
     "output_type": "display_data"
    }
   ],
   "source": [
    "# Basándote en tus hallazgos,\n",
    "# Verifica todos los pedidos que se hicieron el miércoles a las 2:00 a.m.\n",
    "print('Valores duplicados: ',df_instacart_orders[(df_instacart_orders['order_dow'] == 3) & (df_instacart_orders['order_hour_of_day'] == 2)].duplicated().sum())\n",
    "print()\n",
    "display(df_instacart_orders[(df_instacart_orders['order_dow'] == 3) & (df_instacart_orders['order_hour_of_day'] == 2)].value_counts())\n",
    "\n"
   ]
  },
  {
   "cell_type": "markdown",
   "id": "vu2OWyoqwOx5",
   "metadata": {
    "id": "vu2OWyoqwOx5"
   },
   "source": [
    "¿Qué sugiere este resultado?\n",
    "\n",
    "Las filas duplicadas se deben al día 3, que sería el miércoles y al 2 que sería la hora en la que se hizo el pedido. Sumando las 15 repeticiones."
   ]
  },
  {
   "cell_type": "code",
   "execution_count": null,
   "id": "480563c7",
   "metadata": {
    "id": "480563c7"
   },
   "outputs": [],
   "source": [
    "# Elimina los pedidos duplicados\n",
    "df_instacart_orders = df_instacart_orders.drop_duplicates().reset_index(drop= True)"
   ]
  },
  {
   "cell_type": "code",
   "execution_count": null,
   "id": "0b2396a2",
   "metadata": {
    "id": "0b2396a2"
   },
   "outputs": [
    {
     "name": "stdout",
     "output_type": "stream",
     "text": [
      "Filas duplicadas:  0\n",
      "\n"
     ]
    },
    {
     "data": {
      "text/plain": [
       "order_id  user_id  order_number  order_dow  order_hour_of_day  days_since_prior_order\n",
       "4         178520   36            1          9                  7.0                       1\n",
       "2278863   97255    4             5          18                 30.0                      1\n",
       "2278985   93596    11            5          13                 23.0                      1\n",
       "2278978   72281    21            3          16                 7.0                       1\n",
       "2278962   188803   4             5          14                 0.0                       1\n",
       "                                                                                        ..\n",
       "1141845   153218   2             3          8                  6.0                       1\n",
       "1141835   120105   16            4          10                 15.0                      1\n",
       "1141834   92229    8             5          14                 26.0                      1\n",
       "1141833   26712    27            3          13                 6.0                       1\n",
       "3421079   108687   6             1          13                 0.0                       1\n",
       "Length: 450135, dtype: int64"
      ]
     },
     "metadata": {},
     "output_type": "display_data"
    }
   ],
   "source": [
    "# Vuelve a verificar si hay filas duplicadas\n",
    "print('Filas duplicadas: ',df_instacart_orders.duplicated().sum())\n",
    "print()\n",
    "display(df_instacart_orders.value_counts())"
   ]
  },
  {
   "cell_type": "code",
   "execution_count": null,
   "id": "f6113ef1",
   "metadata": {
    "id": "f6113ef1"
   },
   "outputs": [
    {
     "name": "stdout",
     "output_type": "stream",
     "text": [
      "ID de pedidos duplicados:  0\n",
      "\n",
      "1048576    1\n",
      "3389216    1\n",
      "1100604    1\n",
      "1275704    1\n",
      "2337103    1\n",
      "          ..\n",
      "1752059    1\n",
      "2794488    1\n",
      "711671     1\n",
      "1711087    1\n",
      "2047       1\n",
      "Name: order_id, Length: 478952, dtype: int64\n"
     ]
    }
   ],
   "source": [
    "# Vuelve a verificar únicamente si hay IDs duplicados de pedidos\n",
    "\n",
    "print('ID de pedidos duplicados: ',df_instacart_orders['order_id'].duplicated().sum())\n",
    "print()\n",
    "print(df_instacart_orders['order_id'].value_counts())\n",
    "\n"
   ]
  },
  {
   "cell_type": "markdown",
   "id": "5e8905ae",
   "metadata": {
    "id": "5e8905ae"
   },
   "source": [
    "Describe brevemente tus hallazgos y lo que hiciste con ellos\n",
    "\n",
    "Después de ver que los valores duplciados correspondían al día miércoles a lsa 2 am, se procedío a eliminarlos mediante drop_duplicates(), y después se confirmó de nuevo si habíaan duplicados y arrojó un valor de cero.\n",
    "\n",
    "Se revisó la columna 'order_id' para verficar si habían duplicados por medio de duplicated().sum() y se evidencio que no hay ningún id duplicado"
   ]
  },
  {
   "cell_type": "markdown",
   "id": "45e6bc46",
   "metadata": {
    "id": "45e6bc46"
   },
   "source": [
    "### `products` data frame"
   ]
  },
  {
   "cell_type": "code",
   "execution_count": null,
   "id": "5f526b5b-8175-46fa-a0fd-441767d50e64",
   "metadata": {
    "id": "5f526b5b-8175-46fa-a0fd-441767d50e64"
   },
   "outputs": [
    {
     "name": "stdout",
     "output_type": "stream",
     "text": [
      "0\n",
      "\n"
     ]
    },
    {
     "data": {
      "text/plain": [
       "product_id  product_name                                       aisle_id  department_id\n",
       "1           Chocolate Sandwich Cookies                         61        19               1\n",
       "33112       Krinkle Cut Carolina BBQ Potato Chips              107       19               1\n",
       "33103       Fresh Ground Turkey- 85% Lean/15% Fat              35        12               1\n",
       "33104       Organic Unsweetened Ketchup                        72        13               1\n",
       "33105       French Vanilla Concentrated Liquid Coffee Creamer  53        16               1\n",
       "                                                                                         ..\n",
       "16570       Organic Fresh Carrot Chips                         123       4                1\n",
       "16571       Unbleached Jumbo Baking Cups                       97        13               1\n",
       "16572       Super Glue Gel Control                             87        17               1\n",
       "16573       3 Cheese Ravioli                                   38        1                1\n",
       "49694       BURRITO- STEAK & CHEESE                            38        1                1\n",
       "Length: 48436, dtype: int64"
      ]
     },
     "metadata": {},
     "output_type": "display_data"
    }
   ],
   "source": [
    "# Verifica si hay filas totalmente duplicadas\n",
    "print(df_products.duplicated().sum())\n",
    "print()\n",
    "display(df_products.value_counts())\n"
   ]
  },
  {
   "cell_type": "code",
   "execution_count": null,
   "id": "88daa4f4",
   "metadata": {
    "id": "88daa4f4"
   },
   "outputs": [
    {
     "name": "stdout",
     "output_type": "stream",
     "text": [
      "49673\n"
     ]
    }
   ],
   "source": [
    "# Revisa únicamente si hay ID de departamentos duplicados\n",
    "print(df_products['department_id'].duplicated().sum())"
   ]
  },
  {
   "cell_type": "code",
   "execution_count": null,
   "id": "c773f0bf",
   "metadata": {
    "id": "c773f0bf"
   },
   "outputs": [
    {
     "name": "stdout",
     "output_type": "stream",
     "text": [
      "1361\n"
     ]
    }
   ],
   "source": [
    "# Revisa únicamente si hay nombres duplicados de productos (convierte los nombres a letras mayúsculas para compararlos mejor)\n",
    "\n",
    "df_products['product_name'] = df_products['product_name'].str.upper()\n",
    "\n",
    "print(df_products['product_name'].duplicated().sum())\n"
   ]
  },
  {
   "cell_type": "code",
   "execution_count": null,
   "id": "01efd02e",
   "metadata": {
    "id": "01efd02e"
   },
   "outputs": [
    {
     "name": "stdout",
     "output_type": "stream",
     "text": [
      "0\n"
     ]
    }
   ],
   "source": [
    "# Revisa si hay nombres duplicados de productos no faltantes\n",
    "\n",
    "df_products_no_ausentes = df_products[~df_products['product_name'].isna()]\n",
    "\n",
    "print(df_products_no_ausentes.duplicated().sum())\n"
   ]
  },
  {
   "cell_type": "markdown",
   "id": "9da8d293",
   "metadata": {
    "id": "9da8d293"
   },
   "source": [
    "Describe brevemente tus hallazgos y lo que hiciste con ellos.\n",
    "\n",
    "No hay filas totalmente duplicadas.\n",
    "\n",
    "Hay 49673 ID de departamentos duplciados\n",
    "\n",
    "Hay 1361 ID nombre de productos duplciados\n",
    "\n",
    "Utilicé el parámetro subset= para considerar solo los duplicados de la columna 'product_name', se eliminó solo un duplicado, quedando 1360 valores duplicados\n",
    "\n",
    "No hay valores duplicados en los nombres de products que no sean faltantes, o sea los valores duplicados correspondían a los valores NaN o None"
   ]
  },
  {
   "cell_type": "markdown",
   "id": "60f30db1",
   "metadata": {
    "id": "60f30db1"
   },
   "source": [
    "### `departments` data frame"
   ]
  },
  {
   "cell_type": "code",
   "execution_count": null,
   "id": "fb410ad4-0fbf-4b80-bb09-23fdea79afe3",
   "metadata": {
    "id": "fb410ad4-0fbf-4b80-bb09-23fdea79afe3"
   },
   "outputs": [
    {
     "name": "stdout",
     "output_type": "stream",
     "text": [
      "0\n"
     ]
    }
   ],
   "source": [
    "# Revisa si hay filas totalmente duplicadas\n",
    "print(df_departments.duplicated().sum())"
   ]
  },
  {
   "cell_type": "code",
   "execution_count": null,
   "id": "332b12bb",
   "metadata": {
    "id": "332b12bb"
   },
   "outputs": [
    {
     "name": "stdout",
     "output_type": "stream",
     "text": [
      "0\n"
     ]
    }
   ],
   "source": [
    "# Revisa únicamente si hay IDs duplicadas de productos\n",
    "print(df_departments['department_id'].duplicated().sum())"
   ]
  },
  {
   "cell_type": "markdown",
   "id": "bd30d78e",
   "metadata": {
    "id": "bd30d78e"
   },
   "source": [
    "Describe brevemente tus hallazgos y lo que hiciste con ellos.\n",
    "\n",
    "No hay ni filas completamente duplicadas, ni 'department_id' duplicados, por lo que se puede proceder a evaluar los valores ausentes."
   ]
  },
  {
   "cell_type": "markdown",
   "id": "889349c1",
   "metadata": {
    "id": "889349c1"
   },
   "source": [
    "### `aisles` data frame"
   ]
  },
  {
   "cell_type": "code",
   "execution_count": null,
   "id": "9da89fb9-4679-40f5-ad0d-c34df753a3f8",
   "metadata": {
    "id": "9da89fb9-4679-40f5-ad0d-c34df753a3f8"
   },
   "outputs": [
    {
     "name": "stdout",
     "output_type": "stream",
     "text": [
      "0\n"
     ]
    }
   ],
   "source": [
    "# Revisa si hay filas totalmente duplicadas\n",
    "print(df_aisles.duplicated().sum())"
   ]
  },
  {
   "cell_type": "code",
   "execution_count": null,
   "id": "da7c2822",
   "metadata": {
    "id": "da7c2822"
   },
   "outputs": [
    {
     "name": "stdout",
     "output_type": "stream",
     "text": [
      "0\n"
     ]
    }
   ],
   "source": [
    "# Revisa únicamente si hay IDs duplicadas de productos\n",
    "print(df_aisles['aisle_id'].duplicated().sum())"
   ]
  },
  {
   "cell_type": "markdown",
   "id": "ac63826f",
   "metadata": {
    "id": "ac63826f"
   },
   "source": [
    "Describe brevemente tus hallazgos y lo que hiciste con ellos.\n",
    "\n",
    "No hay ni filas completamente duplicadas, ni 'aisle_id' duplicados"
   ]
  },
  {
   "cell_type": "markdown",
   "id": "274cd06a",
   "metadata": {
    "id": "274cd06a"
   },
   "source": [
    "### `order_products` data frame"
   ]
  },
  {
   "cell_type": "code",
   "execution_count": null,
   "id": "52326689-84a8-4b8f-a881-7c68780f62c9",
   "metadata": {
    "id": "52326689-84a8-4b8f-a881-7c68780f62c9"
   },
   "outputs": [
    {
     "name": "stdout",
     "output_type": "stream",
     "text": [
      "0\n"
     ]
    }
   ],
   "source": [
    "# Revisa si hay filas totalmente duplicadas\n",
    "print(df_order_products.duplicated().sum())"
   ]
  },
  {
   "cell_type": "code",
   "execution_count": null,
   "id": "7b861391",
   "metadata": {
    "id": "7b861391"
   },
   "outputs": [
    {
     "data": {
      "text/plain": [
       "order_id  product_id  add_to_cart_order  reordered\n",
       "4         10054       5.0                1            1\n",
       "2277733   35233       5.0                1            1\n",
       "2277734   15233       4.0                1            1\n",
       "          11471       2.0                1            1\n",
       "          6374        3.0                1            1\n",
       "                                                     ..\n",
       "1145037   26790       21.0               1            1\n",
       "          27767       10.0               1            1\n",
       "          32086       16.0               0            1\n",
       "          33572       5.0                1            1\n",
       "3421079   30136       1.0                0            1\n",
       "Length: 4544171, dtype: int64"
      ]
     },
     "metadata": {},
     "output_type": "display_data"
    }
   ],
   "source": [
    "# Vuelve a verificar si hay cualquier otro duplicado engañoso\n",
    "display(df_order_products.value_counts())"
   ]
  },
  {
   "cell_type": "markdown",
   "id": "0b890492",
   "metadata": {
    "id": "0b890492"
   },
   "source": [
    "Describe brevemente tus hallazgos y lo que hiciste con ellos.\n",
    "\n",
    "No hay filas completamente duplicadas\n"
   ]
  },
  {
   "cell_type": "markdown",
   "id": "1e46de76",
   "metadata": {
    "id": "1e46de76"
   },
   "source": [
    "## Encuentra y elimina los valores ausentes\n",
    "\n",
    "Al trabajar con valores duplicados, pudimos observar que también nos falta investigar valores ausentes:\n",
    "\n",
    "* La columna `'product_name'` de la tabla products.\n",
    "* La columna `'days_since_prior_order'` de la tabla orders.\n",
    "* La columna `'add_to_cart_order'` de la tabla order_productos."
   ]
  },
  {
   "cell_type": "markdown",
   "id": "c0aebd78",
   "metadata": {
    "id": "c0aebd78"
   },
   "source": [
    "### `products` data frame"
   ]
  },
  {
   "cell_type": "code",
   "execution_count": null,
   "id": "fe4a8b0f",
   "metadata": {
    "id": "fe4a8b0f"
   },
   "outputs": [
    {
     "name": "stdout",
     "output_type": "stream",
     "text": [
      "1258\n"
     ]
    }
   ],
   "source": [
    "# Encuentra los valores ausentes en la columna 'product_name'\n",
    "\n",
    "print(df_products['product_name'].isna().sum())"
   ]
  },
  {
   "cell_type": "markdown",
   "id": "-A6x1AbJhjkp",
   "metadata": {
    "id": "-A6x1AbJhjkp"
   },
   "source": [
    "Describe brevemente cuáles son tus hallazgos.\n",
    "\n",
    "\n",
    "La salida info() muestra que el conjunto de datos 'df_products' tiene 49694 filas, pero la columna 'product_name' tiene menos de 49694 valores no nulos. lo que quiere decir que tiene valores ausentes, al usar el método isna().sum() se pueden encontrar y contar valores ausentes. En este caso hay 1258 valores ausentes."
   ]
  },
  {
   "cell_type": "code",
   "execution_count": null,
   "id": "e96167bc",
   "metadata": {
    "id": "e96167bc"
   },
   "outputs": [
    {
     "name": "stdout",
     "output_type": "stream",
     "text": [
      "product_id          0\n",
      "product_name     1258\n",
      "aisle_id            0\n",
      "department_id       0\n",
      "dtype: int64\n"
     ]
    }
   ],
   "source": [
    "#  ¿Todos los nombres de productos ausentes están relacionados con el pasillo con ID 100?\n",
    "\n",
    "print(df_products[df_products['aisle_id'] == 100].isna().sum())"
   ]
  },
  {
   "cell_type": "markdown",
   "id": "WRpIfXRphpSL",
   "metadata": {
    "id": "WRpIfXRphpSL"
   },
   "source": [
    "Describe brevemente cuáles son tus hallazgos.\n",
    "\n",
    "Cuando se filtra la columna del pasillo con el ID 100, muestra que hay 1258 valores ausentes en la columna 'product_name', esto significa que estos valores ausentes están relacionados con este pasillo."
   ]
  },
  {
   "cell_type": "code",
   "execution_count": null,
   "id": "8fd0a541",
   "metadata": {
    "id": "8fd0a541"
   },
   "outputs": [
    {
     "name": "stdout",
     "output_type": "stream",
     "text": [
      "product_id          0\n",
      "product_name     1258\n",
      "aisle_id            0\n",
      "department_id       0\n",
      "dtype: int64\n"
     ]
    }
   ],
   "source": [
    "# ¿Todos los nombres de productos ausentes están relacionados con el departamento con ID 21?\n",
    "\n",
    "print(df_products[df_products['department_id'] == 21].isna().sum())"
   ]
  },
  {
   "cell_type": "markdown",
   "id": "qDpdYn1Fht_I",
   "metadata": {
    "id": "qDpdYn1Fht_I"
   },
   "source": [
    "Describe brevemente cuáles son tus hallazgos.\n",
    "\n",
    "Cuando se filtra la columna del pasillo con el ID 21 del departamento, muestra que hay 1258 valores ausentes en la columna 'product_name', esto significa que estos valores ausentes están relacionados con este departamento y con el pasillo con ID 100."
   ]
  },
  {
   "cell_type": "code",
   "execution_count": null,
   "id": "325c3464",
   "metadata": {
    "id": "325c3464"
   },
   "outputs": [
    {
     "data": {
      "text/html": [
       "<div>\n",
       "<style scoped>\n",
       "    .dataframe tbody tr th:only-of-type {\n",
       "        vertical-align: middle;\n",
       "    }\n",
       "\n",
       "    .dataframe tbody tr th {\n",
       "        vertical-align: top;\n",
       "    }\n",
       "\n",
       "    .dataframe thead th {\n",
       "        text-align: right;\n",
       "    }\n",
       "</style>\n",
       "<table border=\"1\" class=\"dataframe\">\n",
       "  <thead>\n",
       "    <tr style=\"text-align: right;\">\n",
       "      <th></th>\n",
       "      <th>product_id</th>\n",
       "      <th>product_name</th>\n",
       "      <th>aisle_id</th>\n",
       "      <th>department_id</th>\n",
       "    </tr>\n",
       "  </thead>\n",
       "  <tbody>\n",
       "    <tr>\n",
       "      <th>37</th>\n",
       "      <td>38</td>\n",
       "      <td>NaN</td>\n",
       "      <td>100</td>\n",
       "      <td>21</td>\n",
       "    </tr>\n",
       "    <tr>\n",
       "      <th>71</th>\n",
       "      <td>72</td>\n",
       "      <td>NaN</td>\n",
       "      <td>100</td>\n",
       "      <td>21</td>\n",
       "    </tr>\n",
       "    <tr>\n",
       "      <th>109</th>\n",
       "      <td>110</td>\n",
       "      <td>NaN</td>\n",
       "      <td>100</td>\n",
       "      <td>21</td>\n",
       "    </tr>\n",
       "    <tr>\n",
       "      <th>296</th>\n",
       "      <td>297</td>\n",
       "      <td>NaN</td>\n",
       "      <td>100</td>\n",
       "      <td>21</td>\n",
       "    </tr>\n",
       "    <tr>\n",
       "      <th>416</th>\n",
       "      <td>417</td>\n",
       "      <td>NaN</td>\n",
       "      <td>100</td>\n",
       "      <td>21</td>\n",
       "    </tr>\n",
       "    <tr>\n",
       "      <th>...</th>\n",
       "      <td>...</td>\n",
       "      <td>...</td>\n",
       "      <td>...</td>\n",
       "      <td>...</td>\n",
       "    </tr>\n",
       "    <tr>\n",
       "      <th>49552</th>\n",
       "      <td>49553</td>\n",
       "      <td>NaN</td>\n",
       "      <td>100</td>\n",
       "      <td>21</td>\n",
       "    </tr>\n",
       "    <tr>\n",
       "      <th>49574</th>\n",
       "      <td>49575</td>\n",
       "      <td>NaN</td>\n",
       "      <td>100</td>\n",
       "      <td>21</td>\n",
       "    </tr>\n",
       "    <tr>\n",
       "      <th>49640</th>\n",
       "      <td>49641</td>\n",
       "      <td>NaN</td>\n",
       "      <td>100</td>\n",
       "      <td>21</td>\n",
       "    </tr>\n",
       "    <tr>\n",
       "      <th>49663</th>\n",
       "      <td>49664</td>\n",
       "      <td>NaN</td>\n",
       "      <td>100</td>\n",
       "      <td>21</td>\n",
       "    </tr>\n",
       "    <tr>\n",
       "      <th>49668</th>\n",
       "      <td>49669</td>\n",
       "      <td>NaN</td>\n",
       "      <td>100</td>\n",
       "      <td>21</td>\n",
       "    </tr>\n",
       "  </tbody>\n",
       "</table>\n",
       "<p>1258 rows × 4 columns</p>\n",
       "</div>"
      ],
      "text/plain": [
       "       product_id product_name  aisle_id  department_id\n",
       "37             38          NaN       100             21\n",
       "71             72          NaN       100             21\n",
       "109           110          NaN       100             21\n",
       "296           297          NaN       100             21\n",
       "416           417          NaN       100             21\n",
       "...           ...          ...       ...            ...\n",
       "49552       49553          NaN       100             21\n",
       "49574       49575          NaN       100             21\n",
       "49640       49641          NaN       100             21\n",
       "49663       49664          NaN       100             21\n",
       "49668       49669          NaN       100             21\n",
       "\n",
       "[1258 rows x 4 columns]"
      ]
     },
     "metadata": {},
     "output_type": "display_data"
    }
   ],
   "source": [
    "# Usa las tablas department y aisle para revisar los datos del pasillo con ID 100 y el departamento con ID 21.\n",
    "\n",
    "display(df_products[(df_products['aisle_id'] == 100) & (df_products['department_id'] == 21)])"
   ]
  },
  {
   "cell_type": "markdown",
   "id": "nqhSTUPhhvEJ",
   "metadata": {
    "id": "nqhSTUPhhvEJ"
   },
   "source": [
    "Describe brevemente cuáles son tus hallazgos.\n",
    "\n",
    "Todos los valores hallados con este filtrado son valores ausentes o NaN"
   ]
  },
  {
   "cell_type": "code",
   "execution_count": null,
   "id": "6b295120",
   "metadata": {
    "id": "6b295120"
   },
   "outputs": [
    {
     "data": {
      "text/html": [
       "<div>\n",
       "<style scoped>\n",
       "    .dataframe tbody tr th:only-of-type {\n",
       "        vertical-align: middle;\n",
       "    }\n",
       "\n",
       "    .dataframe tbody tr th {\n",
       "        vertical-align: top;\n",
       "    }\n",
       "\n",
       "    .dataframe thead th {\n",
       "        text-align: right;\n",
       "    }\n",
       "</style>\n",
       "<table border=\"1\" class=\"dataframe\">\n",
       "  <thead>\n",
       "    <tr style=\"text-align: right;\">\n",
       "      <th></th>\n",
       "      <th>product_id</th>\n",
       "      <th>product_name</th>\n",
       "      <th>aisle_id</th>\n",
       "      <th>department_id</th>\n",
       "    </tr>\n",
       "  </thead>\n",
       "  <tbody>\n",
       "    <tr>\n",
       "      <th>37</th>\n",
       "      <td>38</td>\n",
       "      <td>Unknown</td>\n",
       "      <td>100</td>\n",
       "      <td>21</td>\n",
       "    </tr>\n",
       "    <tr>\n",
       "      <th>71</th>\n",
       "      <td>72</td>\n",
       "      <td>Unknown</td>\n",
       "      <td>100</td>\n",
       "      <td>21</td>\n",
       "    </tr>\n",
       "    <tr>\n",
       "      <th>109</th>\n",
       "      <td>110</td>\n",
       "      <td>Unknown</td>\n",
       "      <td>100</td>\n",
       "      <td>21</td>\n",
       "    </tr>\n",
       "    <tr>\n",
       "      <th>296</th>\n",
       "      <td>297</td>\n",
       "      <td>Unknown</td>\n",
       "      <td>100</td>\n",
       "      <td>21</td>\n",
       "    </tr>\n",
       "    <tr>\n",
       "      <th>416</th>\n",
       "      <td>417</td>\n",
       "      <td>Unknown</td>\n",
       "      <td>100</td>\n",
       "      <td>21</td>\n",
       "    </tr>\n",
       "    <tr>\n",
       "      <th>...</th>\n",
       "      <td>...</td>\n",
       "      <td>...</td>\n",
       "      <td>...</td>\n",
       "      <td>...</td>\n",
       "    </tr>\n",
       "    <tr>\n",
       "      <th>49552</th>\n",
       "      <td>49553</td>\n",
       "      <td>Unknown</td>\n",
       "      <td>100</td>\n",
       "      <td>21</td>\n",
       "    </tr>\n",
       "    <tr>\n",
       "      <th>49574</th>\n",
       "      <td>49575</td>\n",
       "      <td>Unknown</td>\n",
       "      <td>100</td>\n",
       "      <td>21</td>\n",
       "    </tr>\n",
       "    <tr>\n",
       "      <th>49640</th>\n",
       "      <td>49641</td>\n",
       "      <td>Unknown</td>\n",
       "      <td>100</td>\n",
       "      <td>21</td>\n",
       "    </tr>\n",
       "    <tr>\n",
       "      <th>49663</th>\n",
       "      <td>49664</td>\n",
       "      <td>Unknown</td>\n",
       "      <td>100</td>\n",
       "      <td>21</td>\n",
       "    </tr>\n",
       "    <tr>\n",
       "      <th>49668</th>\n",
       "      <td>49669</td>\n",
       "      <td>Unknown</td>\n",
       "      <td>100</td>\n",
       "      <td>21</td>\n",
       "    </tr>\n",
       "  </tbody>\n",
       "</table>\n",
       "<p>1258 rows × 4 columns</p>\n",
       "</div>"
      ],
      "text/plain": [
       "       product_id product_name  aisle_id  department_id\n",
       "37             38      Unknown       100             21\n",
       "71             72      Unknown       100             21\n",
       "109           110      Unknown       100             21\n",
       "296           297      Unknown       100             21\n",
       "416           417      Unknown       100             21\n",
       "...           ...          ...       ...            ...\n",
       "49552       49553      Unknown       100             21\n",
       "49574       49575      Unknown       100             21\n",
       "49640       49641      Unknown       100             21\n",
       "49663       49664      Unknown       100             21\n",
       "49668       49669      Unknown       100             21\n",
       "\n",
       "[1258 rows x 4 columns]"
      ]
     },
     "metadata": {},
     "output_type": "display_data"
    }
   ],
   "source": [
    "# Completa los nombres de productos ausentes con 'Unknown'\n",
    "\n",
    "df_products['product_name'] = df_products['product_name'].fillna('Unknown')\n",
    "\n",
    "display(df_products[(df_products['aisle_id'] == 100) & (df_products['department_id'] == 21)])"
   ]
  },
  {
   "cell_type": "markdown",
   "id": "fc70e5ad",
   "metadata": {
    "id": "fc70e5ad"
   },
   "source": [
    "Describe brevemente tus hallazgos y lo que hiciste con ellos.\n",
    "\n",
    "Para llenar las filas con valores ausentes o NaN utilicé fillna(), con esto remmplacé cada valor ausente con 'Unknown'"
   ]
  },
  {
   "cell_type": "markdown",
   "id": "7eb45c86",
   "metadata": {
    "id": "7eb45c86"
   },
   "source": [
    "### `orders` data frame"
   ]
  },
  {
   "cell_type": "code",
   "execution_count": null,
   "id": "93e41d96",
   "metadata": {
    "id": "93e41d96"
   },
   "outputs": [
    {
     "name": "stdout",
     "output_type": "stream",
     "text": [
      "order_id                      0\n",
      "user_id                       0\n",
      "order_number                  0\n",
      "order_dow                     0\n",
      "order_hour_of_day             0\n",
      "days_since_prior_order    28817\n",
      "dtype: int64\n"
     ]
    }
   ],
   "source": [
    "# Encuentra los valores ausentes\n",
    "print(df_instacart_orders.isna().sum())"
   ]
  },
  {
   "cell_type": "code",
   "execution_count": null,
   "id": "166e5a86",
   "metadata": {
    "id": "166e5a86"
   },
   "outputs": [
    {
     "name": "stdout",
     "output_type": "stream",
     "text": [
      "order_id                      0\n",
      "user_id                       0\n",
      "order_number                  0\n",
      "order_dow                     0\n",
      "order_hour_of_day             0\n",
      "days_since_prior_order    28817\n",
      "dtype: int64\n"
     ]
    }
   ],
   "source": [
    "# ¿Hay algún valor ausente que no sea el primer pedido del cliente?\n",
    "print(df_instacart_orders[df_instacart_orders['days_since_prior_order'] !=1].isna().sum())"
   ]
  },
  {
   "cell_type": "markdown",
   "id": "4e23d089",
   "metadata": {
    "id": "4e23d089"
   },
   "source": [
    "Describe brevemente tus hallazgos y lo que hiciste con ellos.\n",
    "\n",
    "La salida info() muestra que el conjunto de datos 'df_products' tiene 478967 filas, pero la columna 'days_since_prior_order' tiene menos de 478967 valores no nulos. lo que quiere decir que tiene valores ausentes, al usar el método isna().sum() se pueden encontrar y contar valores ausentes. En este caso hay 28817 valores ausentes.\n",
    "\n",
    "Pero usando el filtro para evaluar si esos valores ausentes eran el primer pedido del cliente, se evidencia que no. El filtro usado fue 'days_since_prior_order' == 0, esto era para comprobar si habían valores ausentes desde 0 días desde el primer pedido. "
   ]
  },
  {
   "cell_type": "markdown",
   "id": "69dc9ca4",
   "metadata": {
    "id": "69dc9ca4"
   },
   "source": [
    "### `order_products` data frame"
   ]
  },
  {
   "cell_type": "code",
   "execution_count": null,
   "id": "b8240253",
   "metadata": {
    "id": "b8240253"
   },
   "outputs": [
    {
     "data": {
      "text/plain": [
       "order_id               0\n",
       "product_id             0\n",
       "add_to_cart_order    836\n",
       "reordered              0\n",
       "dtype: int64"
      ]
     },
     "metadata": {},
     "output_type": "display_data"
    }
   ],
   "source": [
    "# Encuentra los valores ausentes\n",
    "display(df_order_products.isna().sum())"
   ]
  },
  {
   "cell_type": "code",
   "execution_count": null,
   "id": "9a78e5ee",
   "metadata": {
    "id": "9a78e5ee"
   },
   "outputs": [
    {
     "name": "stdout",
     "output_type": "stream",
     "text": [
      "Valor max:  64.0\n",
      "Valor min:  1.0\n"
     ]
    }
   ],
   "source": [
    "# ¿Cuáles son los valores mínimos y máximos en esta columna?\n",
    "print('Valor max: ',df_order_products['add_to_cart_order'].max())\n",
    "print('Valor min: ',df_order_products['add_to_cart_order'].min())"
   ]
  },
  {
   "cell_type": "markdown",
   "id": "-Z2Ja215jW78",
   "metadata": {
    "id": "-Z2Ja215jW78"
   },
   "source": [
    "Describe brevemente cuáles son tus hallazgos."
   ]
  },
  {
   "cell_type": "code",
   "execution_count": null,
   "id": "ab9d0c2b",
   "metadata": {
    "id": "ab9d0c2b"
   },
   "outputs": [],
   "source": [
    "# Guarda todas las IDs de pedidos que tengan un valor ausente en 'add_to_cart_order'\n",
    "id_nan = df_order_products[df_order_products['add_to_cart_order'].isna()]['order_id']\n"
   ]
  },
  {
   "cell_type": "code",
   "execution_count": null,
   "id": "54c31695",
   "metadata": {
    "id": "54c31695"
   },
   "outputs": [
    {
     "data": {
      "text/html": [
       "<div>\n",
       "<style scoped>\n",
       "    .dataframe tbody tr th:only-of-type {\n",
       "        vertical-align: middle;\n",
       "    }\n",
       "\n",
       "    .dataframe tbody tr th {\n",
       "        vertical-align: top;\n",
       "    }\n",
       "\n",
       "    .dataframe thead th {\n",
       "        text-align: right;\n",
       "    }\n",
       "</style>\n",
       "<table border=\"1\" class=\"dataframe\">\n",
       "  <thead>\n",
       "    <tr style=\"text-align: right;\">\n",
       "      <th></th>\n",
       "      <th>product_id</th>\n",
       "      <th>add_to_cart_order</th>\n",
       "      <th>reordered</th>\n",
       "    </tr>\n",
       "    <tr>\n",
       "      <th>order_id</th>\n",
       "      <th></th>\n",
       "      <th></th>\n",
       "      <th></th>\n",
       "    </tr>\n",
       "  </thead>\n",
       "  <tbody>\n",
       "    <tr>\n",
       "      <th>61355</th>\n",
       "      <td>127</td>\n",
       "      <td>64</td>\n",
       "      <td>127</td>\n",
       "    </tr>\n",
       "    <tr>\n",
       "      <th>3308010</th>\n",
       "      <td>115</td>\n",
       "      <td>64</td>\n",
       "      <td>115</td>\n",
       "    </tr>\n",
       "    <tr>\n",
       "      <th>2136777</th>\n",
       "      <td>108</td>\n",
       "      <td>64</td>\n",
       "      <td>108</td>\n",
       "    </tr>\n",
       "    <tr>\n",
       "      <th>171934</th>\n",
       "      <td>104</td>\n",
       "      <td>64</td>\n",
       "      <td>104</td>\n",
       "    </tr>\n",
       "    <tr>\n",
       "      <th>1959075</th>\n",
       "      <td>98</td>\n",
       "      <td>64</td>\n",
       "      <td>98</td>\n",
       "    </tr>\n",
       "    <tr>\n",
       "      <th>...</th>\n",
       "      <td>...</td>\n",
       "      <td>...</td>\n",
       "      <td>...</td>\n",
       "    </tr>\n",
       "    <tr>\n",
       "      <th>888470</th>\n",
       "      <td>65</td>\n",
       "      <td>64</td>\n",
       "      <td>65</td>\n",
       "    </tr>\n",
       "    <tr>\n",
       "      <th>1598369</th>\n",
       "      <td>65</td>\n",
       "      <td>64</td>\n",
       "      <td>65</td>\n",
       "    </tr>\n",
       "    <tr>\n",
       "      <th>747668</th>\n",
       "      <td>65</td>\n",
       "      <td>64</td>\n",
       "      <td>65</td>\n",
       "    </tr>\n",
       "    <tr>\n",
       "      <th>1677118</th>\n",
       "      <td>65</td>\n",
       "      <td>64</td>\n",
       "      <td>65</td>\n",
       "    </tr>\n",
       "    <tr>\n",
       "      <th>9310</th>\n",
       "      <td>65</td>\n",
       "      <td>64</td>\n",
       "      <td>65</td>\n",
       "    </tr>\n",
       "  </tbody>\n",
       "</table>\n",
       "<p>70 rows × 3 columns</p>\n",
       "</div>"
      ],
      "text/plain": [
       "          product_id  add_to_cart_order  reordered\n",
       "order_id                                          \n",
       "61355            127                 64        127\n",
       "3308010          115                 64        115\n",
       "2136777          108                 64        108\n",
       "171934           104                 64        104\n",
       "1959075           98                 64         98\n",
       "...              ...                ...        ...\n",
       "888470            65                 64         65\n",
       "1598369           65                 64         65\n",
       "747668            65                 64         65\n",
       "1677118           65                 64         65\n",
       "9310              65                 64         65\n",
       "\n",
       "[70 rows x 3 columns]"
      ]
     },
     "metadata": {},
     "output_type": "display_data"
    },
    {
     "name": "stdout",
     "output_type": "stream",
     "text": [
      "El valor min es:  65\n"
     ]
    }
   ],
   "source": [
    "# ¿Todos los pedidos con valores ausentes tienen más de 64 productos?\n",
    "\n",
    "#Si, el valor minimo de productos comprado por cada usuario con valores ausentes es 65\n",
    "\n",
    "# Agrupa todos los pedidos con datos ausentes por su ID de pedido.\n",
    "\n",
    "grp = df_order_products[df_order_products['order_id'].isin(id_nan)]\n",
    "\n",
    "\n",
    "# Cuenta el número de 'product_id' en cada pedido y revisa el valor mínimo del conteo.\n",
    "\n",
    "display(grp.groupby('order_id').count().sort_values('product_id', ascending = False))\n",
    "print('El valor min es: ',grp.groupby('order_id')['product_id'].count().min())"
   ]
  },
  {
   "cell_type": "markdown",
   "id": "p9V6pddtjglj",
   "metadata": {
    "id": "p9V6pddtjglj"
   },
   "source": [
    "Describe brevemente cuáles son tus hallazgos.\n",
    "\n",
    "Todos los pedidos ausentes tienen más de 65 productos por orden de pedido, Siendo este el valor minimo de productos adquiridos.\n",
    "El máximo de productos adquiridos con valores ausentes es de 127. "
   ]
  },
  {
   "cell_type": "code",
   "execution_count": null,
   "id": "7a987d08",
   "metadata": {
    "id": "7a987d08"
   },
   "outputs": [
    {
     "data": {
      "text/html": [
       "<div>\n",
       "<style scoped>\n",
       "    .dataframe tbody tr th:only-of-type {\n",
       "        vertical-align: middle;\n",
       "    }\n",
       "\n",
       "    .dataframe tbody tr th {\n",
       "        vertical-align: top;\n",
       "    }\n",
       "\n",
       "    .dataframe thead th {\n",
       "        text-align: right;\n",
       "    }\n",
       "</style>\n",
       "<table border=\"1\" class=\"dataframe\">\n",
       "  <thead>\n",
       "    <tr style=\"text-align: right;\">\n",
       "      <th></th>\n",
       "      <th>order_id</th>\n",
       "      <th>product_id</th>\n",
       "      <th>add_to_cart_order</th>\n",
       "      <th>reordered</th>\n",
       "    </tr>\n",
       "  </thead>\n",
       "  <tbody>\n",
       "    <tr>\n",
       "      <th>1058994</th>\n",
       "      <td>1021563</td>\n",
       "      <td>24852</td>\n",
       "      <td>999</td>\n",
       "      <td>0</td>\n",
       "    </tr>\n",
       "    <tr>\n",
       "      <th>1376325</th>\n",
       "      <td>1730767</td>\n",
       "      <td>20114</td>\n",
       "      <td>999</td>\n",
       "      <td>1</td>\n",
       "    </tr>\n",
       "    <tr>\n",
       "      <th>4103809</th>\n",
       "      <td>1800005</td>\n",
       "      <td>3233</td>\n",
       "      <td>999</td>\n",
       "      <td>0</td>\n",
       "    </tr>\n",
       "    <tr>\n",
       "      <th>4143741</th>\n",
       "      <td>171934</td>\n",
       "      <td>1216</td>\n",
       "      <td>999</td>\n",
       "      <td>0</td>\n",
       "    </tr>\n",
       "    <tr>\n",
       "      <th>62655</th>\n",
       "      <td>264710</td>\n",
       "      <td>40281</td>\n",
       "      <td>999</td>\n",
       "      <td>0</td>\n",
       "    </tr>\n",
       "    <tr>\n",
       "      <th>...</th>\n",
       "      <td>...</td>\n",
       "      <td>...</td>\n",
       "      <td>...</td>\n",
       "      <td>...</td>\n",
       "    </tr>\n",
       "    <tr>\n",
       "      <th>3975312</th>\n",
       "      <td>1212219</td>\n",
       "      <td>24654</td>\n",
       "      <td>1</td>\n",
       "      <td>1</td>\n",
       "    </tr>\n",
       "    <tr>\n",
       "      <th>319920</th>\n",
       "      <td>1623459</td>\n",
       "      <td>32655</td>\n",
       "      <td>1</td>\n",
       "      <td>1</td>\n",
       "    </tr>\n",
       "    <tr>\n",
       "      <th>2998574</th>\n",
       "      <td>2426054</td>\n",
       "      <td>31759</td>\n",
       "      <td>1</td>\n",
       "      <td>0</td>\n",
       "    </tr>\n",
       "    <tr>\n",
       "      <th>2998572</th>\n",
       "      <td>1919241</td>\n",
       "      <td>44310</td>\n",
       "      <td>1</td>\n",
       "      <td>1</td>\n",
       "    </tr>\n",
       "    <tr>\n",
       "      <th>3503540</th>\n",
       "      <td>3416328</td>\n",
       "      <td>16428</td>\n",
       "      <td>1</td>\n",
       "      <td>1</td>\n",
       "    </tr>\n",
       "  </tbody>\n",
       "</table>\n",
       "<p>4545007 rows × 4 columns</p>\n",
       "</div>"
      ],
      "text/plain": [
       "         order_id  product_id  add_to_cart_order  reordered\n",
       "1058994   1021563       24852                999          0\n",
       "1376325   1730767       20114                999          1\n",
       "4103809   1800005        3233                999          0\n",
       "4143741    171934        1216                999          0\n",
       "62655      264710       40281                999          0\n",
       "...           ...         ...                ...        ...\n",
       "3975312   1212219       24654                  1          1\n",
       "319920    1623459       32655                  1          1\n",
       "2998574   2426054       31759                  1          0\n",
       "2998572   1919241       44310                  1          1\n",
       "3503540   3416328       16428                  1          1\n",
       "\n",
       "[4545007 rows x 4 columns]"
      ]
     },
     "metadata": {},
     "output_type": "display_data"
    },
    {
     "data": {
      "text/plain": [
       "order_id             0\n",
       "product_id           0\n",
       "add_to_cart_order    0\n",
       "reordered            0\n",
       "dtype: int64"
      ]
     },
     "metadata": {},
     "output_type": "display_data"
    }
   ],
   "source": [
    "# Remplaza los valores ausentes en la columna 'add_to_cart? con 999 y convierte la columna al tipo entero.\n",
    "\n",
    "df_order_products['add_to_cart_order'].fillna('999', inplace = True)\n",
    "df_order_products['add_to_cart_order'] = df_order_products['add_to_cart_order'].astype(int)\n",
    "\n",
    "display(df_order_products.sort_values(by ='add_to_cart_order', ascending = False))\n",
    "\n",
    "display(df_order_products.isna().sum())"
   ]
  },
  {
   "cell_type": "markdown",
   "id": "fea4bcc7",
   "metadata": {
    "id": "fea4bcc7"
   },
   "source": [
    "Describe brevemente tus hallazgos y lo que hiciste con ellos.\n",
    "\n",
    "Después de hacer el filtrado anterior, tomé el conjunto de datos en la columna add_to_cart_order, que era la que tenía los valores duplicados, y reemplacé todos los valores NaN con 999, par adespués convertirlos en números enteros. \n",
    "Después volví a confirmar si quedaban valores duplicados con isna().sum(), y el resultado fue negativo, no hay valores duplicados en el DataFrame."
   ]
  },
  {
   "cell_type": "markdown",
   "id": "RnplPFY1gSrb",
   "metadata": {
    "id": "RnplPFY1gSrb"
   },
   "source": [
    "## Conclusiones\n",
    "\n",
    "Escribe aquí tus conclusiones intermedias sobre el Paso 2. Preprocesamiento de los datos\n",
    "\n",
    "\n",
    "Para hacer un buen procesamiento de datos se debe de observar qué tipo de información se nos está entregando, esto se hace con info(), con esta podemos ver cantidad de columnas, sus nombres, cantidad de filas, si algunas de esas columnas tienen valores ausentes.\n",
    "\n",
    "Después esos datos se deben de procesar, eliminando los valores duplicados y reemplazando los valores ausentes por un valor adecuado según sea el caso, después de esto ya se puede empezar a hacer un tratamiento de datos y comenzar con las operaciones para analizarlos."
   ]
  },
  {
   "cell_type": "markdown",
   "id": "UjrOIwTcz3ri",
   "metadata": {
    "id": "UjrOIwTcz3ri"
   },
   "source": [
    "# Paso 3. Análisis de los datos\n",
    "\n",
    "Una vez los datos estén procesados y listos, haz el siguiente análisis:"
   ]
  },
  {
   "cell_type": "markdown",
   "id": "turkish-kidney",
   "metadata": {
    "id": "turkish-kidney"
   },
   "source": [
    "# [A] Fácil (deben completarse todos para aprobar)\n",
    "\n",
    "1. Verifica que los valores en las columnas `'order_hour_of_day'` y `'order_dow'` en la tabla orders sean razonables (es decir, `'order_hour_of_day'` oscile entre 0 y 23 y `'order_dow'` oscile entre 0 y 6).\n",
    "2. Crea un gráfico que muestre el número de personas que hacen pedidos dependiendo de la hora del día.\n",
    "3. Crea un gráfico que muestre qué día de la semana la gente hace sus compras.\n",
    "4. Crea un gráfico que muestre el tiempo que la gente espera hasta hacer su siguiente pedido, y comenta sobre los valores mínimos y máximos."
   ]
  },
  {
   "cell_type": "markdown",
   "id": "short-capability",
   "metadata": {
    "id": "short-capability"
   },
   "source": [
    "### [A1] Verifica que los valores sean sensibles"
   ]
  },
  {
   "cell_type": "code",
   "execution_count": null,
   "id": "growing-fruit",
   "metadata": {
    "id": "growing-fruit"
   },
   "outputs": [
    {
     "name": "stdout",
     "output_type": "stream",
     "text": [
      "239476    23\n",
      "285515    23\n",
      "226401    23\n",
      "255413    23\n",
      "463072    23\n",
      "          ..\n",
      "205733     0\n",
      "319749     0\n",
      "445021     0\n",
      "165745     0\n",
      "103405     0\n",
      "Name: order_hour_of_day, Length: 478952, dtype: int64\n",
      "El valor min es:  0\n",
      "El valor max es:  23\n"
     ]
    }
   ],
   "source": [
    "print(df_instacart_orders['order_hour_of_day'].sort_values(ascending = False))\n",
    "print('El valor min es: ' ,df_instacart_orders['order_hour_of_day'].min())\n",
    "print('El valor max es: ' ,df_instacart_orders['order_hour_of_day'].max())"
   ]
  },
  {
   "cell_type": "code",
   "execution_count": null,
   "id": "accessory-malaysia",
   "metadata": {
    "id": "accessory-malaysia"
   },
   "outputs": [
    {
     "name": "stdout",
     "output_type": "stream",
     "text": [
      "0         6\n",
      "197310    6\n",
      "197390    6\n",
      "197389    6\n",
      "197385    6\n",
      "         ..\n",
      "397422    0\n",
      "397421    0\n",
      "221829    0\n",
      "397418    0\n",
      "197579    0\n",
      "Name: order_dow, Length: 478952, dtype: int64\n",
      "El valor min es:  0\n",
      "El valor max es:  6\n"
     ]
    }
   ],
   "source": [
    "print(df_instacart_orders['order_dow'].sort_values(ascending = False))\n",
    "print('El valor min es: ' ,df_instacart_orders['order_dow'].min())\n",
    "print('El valor max es: ' ,df_instacart_orders['order_dow'].max())"
   ]
  },
  {
   "cell_type": "markdown",
   "id": "hmR2GNQ6lCsX",
   "metadata": {
    "id": "hmR2GNQ6lCsX"
   },
   "source": [
    "Escribe aquí tus conclusiones\n",
    "\n",
    "El valor minimo de la hora de la semana es 0 y el max 23, por lo que tiene los valores adecuados. Para esto se usó max y min y se confirmó mostrando el DataFrame df_instacart_orders filtrado en la columna order_hour_of_day ordenandolo de mayor a menor. Al \n",
    "\n",
    "\n",
    "El valor minimo del día de la semana es 0 y el max 6, por lo que tiene los valores adecuados. Para esto se usó max y min y se confirmó mostrando el DataFrame df_instacart_orders filtrado en la columna order_dow ordenandolo de mayor a menor. En este caso el día uno equivale al valor 0 y el día 7 al valor 6.\n",
    "\n",
    "Se concluye que los valores en ambas columnas son razonables. "
   ]
  },
  {
   "cell_type": "markdown",
   "id": "a6743a70",
   "metadata": {
    "id": "a6743a70"
   },
   "source": [
    "### [A2] Para cada hora del día, ¿cuántas personas hacen órdenes?"
   ]
  },
  {
   "cell_type": "code",
   "execution_count": null,
   "id": "a36cca27",
   "metadata": {
    "id": "a36cca27"
   },
   "outputs": [
    {
     "data": {
      "image/png": "[encoded data removed]",
      "text/plain": [
       "<Figure size 432x288 with 1 Axes>"
      ]
     },
     "metadata": {
      "needs_background": "light"
     },
     "output_type": "display_data"
    }
   ],
   "source": [
    "orders_by_hour = df_instacart_orders.groupby('order_hour_of_day')['user_id'].nunique()\n",
    "\n",
    "# Visualizar la cantidad de personas que hacen órdenes por hora del día\n",
    "plt.bar(orders_by_hour.index, orders_by_hour)\n",
    "plt.title('Órdenes de personas por cada hora del Día')\n",
    "plt.xlabel('Hora del Día')\n",
    "plt.ylabel('Número de Personas')\n",
    "plt.show()"
   ]
  },
  {
   "cell_type": "markdown",
   "id": "11270eed",
   "metadata": {
    "id": "11270eed"
   },
   "source": [
    "Escribe aquí tus conclusiones\n",
    "\n",
    "groupby se utiliza para agrupar el DataFrame por la columna 'order_hour_of_day', y luego nunique() cuenta la cantidad única de usuarios ('user_id') para cada hora del día. El resultado muestra la cantidad de personas que hacen órdenes para cada hora del día.\n",
    "\n",
    "En este caso, si un usuario realiza múltiples pedidos en la misma hora del día, se cuenta solo una vez. Por lo que nunique() es más apropiado para evitar contar al mismo usuario varias veces.\n",
    "\n",
    "\n",
    "Entre las 10 y las 15 horas una mayor cantidad de personas realizan compras en el día.\n",
    "\n",
    "Muestra un crecimiento a medida que pasan las primeras horas del día, y una disminución cuando se acerca las horas de la noche. Posiblemente se deba a que en altas horas de la noche y en las primeras horas de la mañana, las personas se encuentren descansando."
   ]
  },
  {
   "cell_type": "markdown",
   "id": "documented-command",
   "metadata": {
    "id": "documented-command"
   },
   "source": [
    "### [A3] ¿Qué día de la semana compran víveres las personas?"
   ]
  },
  {
   "cell_type": "code",
   "execution_count": null,
   "id": "chief-digit",
   "metadata": {
    "id": "chief-digit"
   },
   "outputs": [
    {
     "data": {
      "image/png": "[encoded data removed]",
      "text/plain": [
       "<Figure size 432x288 with 1 Axes>"
      ]
     },
     "metadata": {
      "needs_background": "light"
     },
     "output_type": "display_data"
    }
   ],
   "source": [
    "day_of_week= df_instacart_orders['order_dow'].value_counts().sort_index()\n",
    "\n",
    "\n",
    "# Mapear el número del día de la semana a su nombre correspondiente\n",
    "\n",
    "day_names = ['domingo', 'lunes', 'martes', 'miercoles', 'jueves', 'viernes', 'sabado']\n",
    "\n",
    "day_of_week.index = day_names\n",
    "\n",
    "plt.bar(day_of_week.index, day_of_week)\n",
    "plt.title('Compras por Día de la Semana')\n",
    "plt.xlabel('Día de la Semana')\n",
    "plt.ylabel('Número de Compras')\n",
    "plt.show()"
   ]
  },
  {
   "cell_type": "markdown",
   "id": "dominant-lightning",
   "metadata": {
    "id": "dominant-lightning"
   },
   "source": [
    "Escribe aquí tus conclusiones\n",
    "\n",
    "Las personas compran víveres los domingos"
   ]
  },
  {
   "cell_type": "markdown",
   "id": "cutting-concert",
   "metadata": {
    "id": "cutting-concert"
   },
   "source": [
    "### [A4] ¿Cuánto tiempo esperan las personas hasta hacer otro pedido? Comenta sobre los valores mínimos y máximos."
   ]
  },
  {
   "cell_type": "code",
   "execution_count": null,
   "id": "c231f523",
   "metadata": {
    "id": "c231f523"
   },
   "outputs": [
    {
     "data": {
      "image/png": "[encoded data removed]",
      "text/plain": [
       "<Figure size 432x288 with 1 Axes>"
      ]
     },
     "metadata": {
      "needs_background": "light"
     },
     "output_type": "display_data"
    },
    {
     "name": "stdout",
     "output_type": "stream",
     "text": [
      "Una persona espera en promedio  11.101813900274362  días antes de hacer otro pedido.\n",
      "El  minimo de días que una persona espera para realizar otro pedido es:  0.0\n",
      "El  máximo de días que una persona espera para realizar otro pedido es:  30.0\n"
     ]
    }
   ],
   "source": [
    "# Calcular la frecuencia de días transcurridos entre pedidos\n",
    "days_prior_order = df_instacart_orders['days_since_prior_order'].value_counts().sort_index()\n",
    "\n",
    "# Visualizar la frecuencia de días transcurridos entre pedidos en un gráfico de barras\n",
    "plt.bar(days_prior_order.index, days_prior_order)\n",
    "plt.title('Días Transcurridos Entre Pedidos')\n",
    "plt.xlabel('Días Desde el Pedido Anterior')\n",
    "plt.ylabel('Número de Pedidos')\n",
    "plt.show()\n",
    "\n",
    "print('Una persona espera en promedio ', df_instacart_orders['days_since_prior_order'].mean(), ' días antes de hacer otro pedido.')\n",
    "print('El  minimo de días que una persona espera para realizar otro pedido es: ', df_instacart_orders['days_since_prior_order'].min())\n",
    "print('El  máximo de días que una persona espera para realizar otro pedido es: ', df_instacart_orders['days_since_prior_order'].max())\n"
   ]
  },
  {
   "cell_type": "markdown",
   "id": "discrete-vertex",
   "metadata": {
    "id": "discrete-vertex"
   },
   "source": [
    "Escribe aquí tus conclusiones"
   ]
  },
  {
   "cell_type": "markdown",
   "id": "tight-staff",
   "metadata": {
    "id": "tight-staff"
   },
   "source": [
    "# [B] Intermedio (deben completarse todos para aprobar)\n",
    "\n",
    "1. ¿Existe alguna diferencia entre las distribuciones `'order_hour_of_day'` de los miércoles y los sábados? Traza gráficos de barra de `'order_hour_of_day'` para ambos días en la misma figura y describe las diferencias que observes.\n",
    "2. Grafica la distribución para el número de órdenes que hacen los clientes (es decir, cuántos clientes hicieron solo 1 pedido, cuántos hicieron 2, cuántos 3, y así sucesivamente...).\n",
    "3. ¿Cuáles son los 20 principales productos que se piden con más frecuencia (muestra su identificación y nombre)?"
   ]
  },
  {
   "cell_type": "markdown",
   "id": "packed-classic",
   "metadata": {
    "id": "packed-classic"
   },
   "source": [
    "### [B1] Diferencia entre miércoles y sábados para  `'order_hour_of_day'`. Traza gráficos de barra para los dos días y describe las diferencias que veas."
   ]
  },
  {
   "cell_type": "code",
   "execution_count": null,
   "id": "94e54e8a",
   "metadata": {
    "id": "94e54e8a"
   },
   "outputs": [],
   "source": [
    "df_mier = df_instacart_orders[df_instacart_orders['order_dow'] == 3]\n",
    "df_sab = df_instacart_orders[df_instacart_orders['order_dow'] == 6]"
   ]
  },
  {
   "cell_type": "code",
   "execution_count": null,
   "id": "797c90a8",
   "metadata": {
    "id": "797c90a8"
   },
   "outputs": [
    {
     "data": {
      "text/html": [
       "<div>\n",
       "<style scoped>\n",
       "    .dataframe tbody tr th:only-of-type {\n",
       "        vertical-align: middle;\n",
       "    }\n",
       "\n",
       "    .dataframe tbody tr th {\n",
       "        vertical-align: top;\n",
       "    }\n",
       "\n",
       "    .dataframe thead th {\n",
       "        text-align: right;\n",
       "    }\n",
       "</style>\n",
       "<table border=\"1\" class=\"dataframe\">\n",
       "  <thead>\n",
       "    <tr style=\"text-align: right;\">\n",
       "      <th></th>\n",
       "      <th>order_id</th>\n",
       "      <th>user_id</th>\n",
       "      <th>order_number</th>\n",
       "      <th>order_dow</th>\n",
       "      <th>order_hour_of_day</th>\n",
       "      <th>days_since_prior_order</th>\n",
       "    </tr>\n",
       "  </thead>\n",
       "  <tbody>\n",
       "    <tr>\n",
       "      <th>6</th>\n",
       "      <td>2511640</td>\n",
       "      <td>148233</td>\n",
       "      <td>40</td>\n",
       "      <td>3</td>\n",
       "      <td>8</td>\n",
       "      <td>2.0</td>\n",
       "    </tr>\n",
       "    <tr>\n",
       "      <th>16</th>\n",
       "      <td>3109465</td>\n",
       "      <td>55090</td>\n",
       "      <td>19</td>\n",
       "      <td>3</td>\n",
       "      <td>15</td>\n",
       "      <td>9.0</td>\n",
       "    </tr>\n",
       "    <tr>\n",
       "      <th>28</th>\n",
       "      <td>133707</td>\n",
       "      <td>182261</td>\n",
       "      <td>1</td>\n",
       "      <td>3</td>\n",
       "      <td>10</td>\n",
       "      <td>NaN</td>\n",
       "    </tr>\n",
       "    <tr>\n",
       "      <th>30</th>\n",
       "      <td>1890318</td>\n",
       "      <td>193501</td>\n",
       "      <td>3</td>\n",
       "      <td>3</td>\n",
       "      <td>15</td>\n",
       "      <td>30.0</td>\n",
       "    </tr>\n",
       "    <tr>\n",
       "      <th>35</th>\n",
       "      <td>125325</td>\n",
       "      <td>106853</td>\n",
       "      <td>6</td>\n",
       "      <td>3</td>\n",
       "      <td>19</td>\n",
       "      <td>30.0</td>\n",
       "    </tr>\n",
       "    <tr>\n",
       "      <th>...</th>\n",
       "      <td>...</td>\n",
       "      <td>...</td>\n",
       "      <td>...</td>\n",
       "      <td>...</td>\n",
       "      <td>...</td>\n",
       "      <td>...</td>\n",
       "    </tr>\n",
       "    <tr>\n",
       "      <th>478902</th>\n",
       "      <td>972799</td>\n",
       "      <td>89702</td>\n",
       "      <td>4</td>\n",
       "      <td>3</td>\n",
       "      <td>7</td>\n",
       "      <td>10.0</td>\n",
       "    </tr>\n",
       "    <tr>\n",
       "      <th>478931</th>\n",
       "      <td>2406747</td>\n",
       "      <td>63101</td>\n",
       "      <td>11</td>\n",
       "      <td>3</td>\n",
       "      <td>8</td>\n",
       "      <td>5.0</td>\n",
       "    </tr>\n",
       "    <tr>\n",
       "      <th>478941</th>\n",
       "      <td>640934</td>\n",
       "      <td>27104</td>\n",
       "      <td>9</td>\n",
       "      <td>3</td>\n",
       "      <td>10</td>\n",
       "      <td>6.0</td>\n",
       "    </tr>\n",
       "    <tr>\n",
       "      <th>478948</th>\n",
       "      <td>3270802</td>\n",
       "      <td>112087</td>\n",
       "      <td>2</td>\n",
       "      <td>3</td>\n",
       "      <td>13</td>\n",
       "      <td>6.0</td>\n",
       "    </tr>\n",
       "    <tr>\n",
       "      <th>478950</th>\n",
       "      <td>216274</td>\n",
       "      <td>4391</td>\n",
       "      <td>3</td>\n",
       "      <td>3</td>\n",
       "      <td>8</td>\n",
       "      <td>8.0</td>\n",
       "    </tr>\n",
       "  </tbody>\n",
       "</table>\n",
       "<p>60897 rows × 6 columns</p>\n",
       "</div>"
      ],
      "text/plain": [
       "        order_id  user_id  order_number  order_dow  order_hour_of_day  \\\n",
       "6        2511640   148233            40          3                  8   \n",
       "16       3109465    55090            19          3                 15   \n",
       "28        133707   182261             1          3                 10   \n",
       "30       1890318   193501             3          3                 15   \n",
       "35        125325   106853             6          3                 19   \n",
       "...          ...      ...           ...        ...                ...   \n",
       "478902    972799    89702             4          3                  7   \n",
       "478931   2406747    63101            11          3                  8   \n",
       "478941    640934    27104             9          3                 10   \n",
       "478948   3270802   112087             2          3                 13   \n",
       "478950    216274     4391             3          3                  8   \n",
       "\n",
       "        days_since_prior_order  \n",
       "6                          2.0  \n",
       "16                         9.0  \n",
       "28                         NaN  \n",
       "30                        30.0  \n",
       "35                        30.0  \n",
       "...                        ...  \n",
       "478902                    10.0  \n",
       "478931                     5.0  \n",
       "478941                     6.0  \n",
       "478948                     6.0  \n",
       "478950                     8.0  \n",
       "\n",
       "[60897 rows x 6 columns]"
      ]
     },
     "metadata": {},
     "output_type": "display_data"
    },
    {
     "data": {
      "text/html": [
       "<div>\n",
       "<style scoped>\n",
       "    .dataframe tbody tr th:only-of-type {\n",
       "        vertical-align: middle;\n",
       "    }\n",
       "\n",
       "    .dataframe tbody tr th {\n",
       "        vertical-align: top;\n",
       "    }\n",
       "\n",
       "    .dataframe thead th {\n",
       "        text-align: right;\n",
       "    }\n",
       "</style>\n",
       "<table border=\"1\" class=\"dataframe\">\n",
       "  <thead>\n",
       "    <tr style=\"text-align: right;\">\n",
       "      <th></th>\n",
       "      <th>order_id</th>\n",
       "      <th>user_id</th>\n",
       "      <th>order_number</th>\n",
       "      <th>order_dow</th>\n",
       "      <th>order_hour_of_day</th>\n",
       "      <th>days_since_prior_order</th>\n",
       "    </tr>\n",
       "  </thead>\n",
       "  <tbody>\n",
       "    <tr>\n",
       "      <th>0</th>\n",
       "      <td>1515936</td>\n",
       "      <td>183418</td>\n",
       "      <td>11</td>\n",
       "      <td>6</td>\n",
       "      <td>13</td>\n",
       "      <td>30.0</td>\n",
       "    </tr>\n",
       "    <tr>\n",
       "      <th>11</th>\n",
       "      <td>102585</td>\n",
       "      <td>191558</td>\n",
       "      <td>18</td>\n",
       "      <td>6</td>\n",
       "      <td>16</td>\n",
       "      <td>8.0</td>\n",
       "    </tr>\n",
       "    <tr>\n",
       "      <th>14</th>\n",
       "      <td>2843219</td>\n",
       "      <td>74699</td>\n",
       "      <td>4</td>\n",
       "      <td>6</td>\n",
       "      <td>11</td>\n",
       "      <td>30.0</td>\n",
       "    </tr>\n",
       "    <tr>\n",
       "      <th>20</th>\n",
       "      <td>50934</td>\n",
       "      <td>178510</td>\n",
       "      <td>9</td>\n",
       "      <td>6</td>\n",
       "      <td>9</td>\n",
       "      <td>5.0</td>\n",
       "    </tr>\n",
       "    <tr>\n",
       "      <th>26</th>\n",
       "      <td>1844247</td>\n",
       "      <td>122558</td>\n",
       "      <td>4</td>\n",
       "      <td>6</td>\n",
       "      <td>18</td>\n",
       "      <td>30.0</td>\n",
       "    </tr>\n",
       "    <tr>\n",
       "      <th>...</th>\n",
       "      <td>...</td>\n",
       "      <td>...</td>\n",
       "      <td>...</td>\n",
       "      <td>...</td>\n",
       "      <td>...</td>\n",
       "      <td>...</td>\n",
       "    </tr>\n",
       "    <tr>\n",
       "      <th>478909</th>\n",
       "      <td>3274344</td>\n",
       "      <td>145367</td>\n",
       "      <td>13</td>\n",
       "      <td>6</td>\n",
       "      <td>10</td>\n",
       "      <td>13.0</td>\n",
       "    </tr>\n",
       "    <tr>\n",
       "      <th>478915</th>\n",
       "      <td>489820</td>\n",
       "      <td>7287</td>\n",
       "      <td>14</td>\n",
       "      <td>6</td>\n",
       "      <td>19</td>\n",
       "      <td>2.0</td>\n",
       "    </tr>\n",
       "    <tr>\n",
       "      <th>478928</th>\n",
       "      <td>548902</td>\n",
       "      <td>6829</td>\n",
       "      <td>3</td>\n",
       "      <td>6</td>\n",
       "      <td>10</td>\n",
       "      <td>30.0</td>\n",
       "    </tr>\n",
       "    <tr>\n",
       "      <th>478939</th>\n",
       "      <td>984024</td>\n",
       "      <td>47076</td>\n",
       "      <td>2</td>\n",
       "      <td>6</td>\n",
       "      <td>21</td>\n",
       "      <td>6.0</td>\n",
       "    </tr>\n",
       "    <tr>\n",
       "      <th>478946</th>\n",
       "      <td>3006133</td>\n",
       "      <td>34561</td>\n",
       "      <td>7</td>\n",
       "      <td>6</td>\n",
       "      <td>10</td>\n",
       "      <td>30.0</td>\n",
       "    </tr>\n",
       "  </tbody>\n",
       "</table>\n",
       "<p>62649 rows × 6 columns</p>\n",
       "</div>"
      ],
      "text/plain": [
       "        order_id  user_id  order_number  order_dow  order_hour_of_day  \\\n",
       "0        1515936   183418            11          6                 13   \n",
       "11        102585   191558            18          6                 16   \n",
       "14       2843219    74699             4          6                 11   \n",
       "20         50934   178510             9          6                  9   \n",
       "26       1844247   122558             4          6                 18   \n",
       "...          ...      ...           ...        ...                ...   \n",
       "478909   3274344   145367            13          6                 10   \n",
       "478915    489820     7287            14          6                 19   \n",
       "478928    548902     6829             3          6                 10   \n",
       "478939    984024    47076             2          6                 21   \n",
       "478946   3006133    34561             7          6                 10   \n",
       "\n",
       "        days_since_prior_order  \n",
       "0                         30.0  \n",
       "11                         8.0  \n",
       "14                        30.0  \n",
       "20                         5.0  \n",
       "26                        30.0  \n",
       "...                        ...  \n",
       "478909                    13.0  \n",
       "478915                     2.0  \n",
       "478928                    30.0  \n",
       "478939                     6.0  \n",
       "478946                    30.0  \n",
       "\n",
       "[62649 rows x 6 columns]"
      ]
     },
     "metadata": {},
     "output_type": "display_data"
    }
   ],
   "source": [
    "display(df_mier)\n",
    "display(df_sab)"
   ]
  },
  {
   "cell_type": "code",
   "execution_count": null,
   "id": "35bcea30",
   "metadata": {
    "id": "35bcea30"
   },
   "outputs": [
    {
     "data": {
      "image/png": "[encoded data removed]",
      "text/plain": [
       "<Figure size 864x432 with 1 Axes>"
      ]
     },
     "metadata": {
      "needs_background": "light"
     },
     "output_type": "display_data"
    }
   ],
   "source": [
    "#Tamaño de la gráfica\n",
    "plt.figure(figsize=(12, 6))\n",
    "\n",
    "#Barra Miércoles\n",
    "\n",
    "plt.bar(df_mier['order_hour_of_day'].value_counts().sort_index().index + 0.2, \n",
    "        df_mier['order_hour_of_day'].value_counts().sort_index(), \n",
    "        label='Miércoles', alpha = 0.8)\n",
    "\n",
    "#Barra sábado\n",
    "\n",
    "plt.bar(df_sab['order_hour_of_day'].value_counts().sort_index().index, \n",
    "        df_sab['order_hour_of_day'].value_counts().sort_index(), \n",
    "        label='Sábado', alpha = 0.8)\n",
    "\n",
    "\n",
    "plt.title('Pedidos por hora - Miércoles vs Sábado')\n",
    "plt.xlabel('Hora del día')\n",
    "plt.ylabel('Número de pedidos')\n",
    "plt.legend()\n",
    "\n",
    "\n",
    "plt.show()"
   ]
  },
  {
   "cell_type": "markdown",
   "id": "charitable-congo",
   "metadata": {
    "id": "charitable-congo"
   },
   "source": [
    "Escribe aquí tus conclusiones\n",
    "\n",
    "Primero realicé un filtro para obtener los días 3 y 6 correspondientes a miércoles y a sábado. \n",
    "Después creé dos gráficos de barras, uno para miércoles y otro para sábado, mostrando la distribución de las horas del día en que se realizaron los pedidos.\n",
    "\n",
    "El value_counts().sort_index() se utiliza para contar la frecuencia de cada hora del día y asegurarse de que el gráfico esté ordenado por las horas del día. Luego, plt.bar se utiliza para crear gráficos de barras.\n",
    "\n",
    "Como este gráfico utiliza dos barras para representar la distribución de las horas del día en los pedidos de miércoles y sábado en el mismo gráfico. El ajuste de + 0.2 (búsqueda en Google) en la ubicación de la barra de sábado se hizo para visualizarambas barras con claridad y evitar que se superpongan con las barras de miércoles. El valor de alpha se usó pra que haya una transparencia y se puedan ver mejor ambas barras.\n",
    "\n",
    "Conclusiones:\n",
    "\n",
    "Ambos días tienen una tendencia similar en cuanto la cantidad de ordenes hechas en una misma hora del día, exceptuando el día sábado al medio día que se observó que por lo general hay un aumento aproximadamente desde las 12 hasta las 14 horas. \n",
    "\n",
    "Esto puede deberse a que al ser fin de semana las personas tienen más tiempo de hacer sus comprar en estos horarios, a diferencia del día mércoles en los que en ese horario probablemente estén en su hora de almuerzo para continuar trabajando. "
   ]
  },
  {
   "cell_type": "markdown",
   "id": "e3891143",
   "metadata": {
    "id": "e3891143"
   },
   "source": [
    "### [B2] ¿Cuál es la distribución para el número de pedidos por cliente?"
   ]
  },
  {
   "cell_type": "code",
   "execution_count": null,
   "id": "d8c26c23",
   "metadata": {
    "id": "d8c26c23"
   },
   "outputs": [
    {
     "data": {
      "text/plain": [
       "user_id\n",
       "2         2\n",
       "4         2\n",
       "5         1\n",
       "6         2\n",
       "7         2\n",
       "         ..\n",
       "206203    1\n",
       "206206    7\n",
       "206207    5\n",
       "206208    9\n",
       "206209    2\n",
       "Name: order_number, Length: 157437, dtype: int64"
      ]
     },
     "metadata": {},
     "output_type": "display_data"
    }
   ],
   "source": [
    "df_client = df_instacart_orders.groupby('user_id')['order_number'].nunique()\n",
    "display(df_client)"
   ]
  },
  {
   "cell_type": "code",
   "execution_count": null,
   "id": "00e69a66",
   "metadata": {
    "id": "00e69a66"
   },
   "outputs": [
    {
     "data": {
      "image/png": "[encoded data removed]",
      "text/plain": [
       "<Figure size 720x432 with 1 Axes>"
      ]
     },
     "metadata": {
      "needs_background": "light"
     },
     "output_type": "display_data"
    }
   ],
   "source": [
    "\n",
    "\n",
    "plt.figure(figsize=(10, 6))\n",
    "plt.hist(df_client, bins=30)\n",
    "plt.title('Distribución del Número de Pedidos por Cliente')\n",
    "plt.xlabel('Número de Pedidos')\n",
    "plt.ylabel('Número de Clientes')\n",
    "plt.show()\n"
   ]
  },
  {
   "cell_type": "markdown",
   "id": "d2eff7d5",
   "metadata": {
    "id": "d2eff7d5"
   },
   "source": [
    "Escribe aquí tus conclusiones\n",
    "\n",
    "La mayoría de los clientes hacen solo una sola compra y a veces 2. Una gran cantidad no pasa de las 5 compras. "
   ]
  },
  {
   "cell_type": "markdown",
   "id": "54a0319c",
   "metadata": {
    "id": "54a0319c"
   },
   "source": [
    "### [B3] ¿Cuáles son los 20 productos más populares (muestra su ID y nombre)?"
   ]
  },
  {
   "cell_type": "code",
   "execution_count": null,
   "id": "exterior-arizona",
   "metadata": {
    "id": "exterior-arizona",
    "scrolled": true
   },
   "outputs": [
    {
     "data": {
      "text/html": [
       "<div>\n",
       "<style scoped>\n",
       "    .dataframe tbody tr th:only-of-type {\n",
       "        vertical-align: middle;\n",
       "    }\n",
       "\n",
       "    .dataframe tbody tr th {\n",
       "        vertical-align: top;\n",
       "    }\n",
       "\n",
       "    .dataframe thead th {\n",
       "        text-align: right;\n",
       "    }\n",
       "</style>\n",
       "<table border=\"1\" class=\"dataframe\">\n",
       "  <thead>\n",
       "    <tr style=\"text-align: right;\">\n",
       "      <th></th>\n",
       "      <th>product_id</th>\n",
       "      <th>product_name</th>\n",
       "      <th>frecuency</th>\n",
       "    </tr>\n",
       "  </thead>\n",
       "  <tbody>\n",
       "    <tr>\n",
       "      <th>0</th>\n",
       "      <td>24852</td>\n",
       "      <td>BANANA</td>\n",
       "      <td>66050</td>\n",
       "    </tr>\n",
       "    <tr>\n",
       "      <th>1</th>\n",
       "      <td>13176</td>\n",
       "      <td>BAG OF ORGANIC BANANAS</td>\n",
       "      <td>53297</td>\n",
       "    </tr>\n",
       "    <tr>\n",
       "      <th>2</th>\n",
       "      <td>21137</td>\n",
       "      <td>ORGANIC STRAWBERRIES</td>\n",
       "      <td>37039</td>\n",
       "    </tr>\n",
       "    <tr>\n",
       "      <th>3</th>\n",
       "      <td>21903</td>\n",
       "      <td>ORGANIC BABY SPINACH</td>\n",
       "      <td>33971</td>\n",
       "    </tr>\n",
       "    <tr>\n",
       "      <th>4</th>\n",
       "      <td>47209</td>\n",
       "      <td>ORGANIC HASS AVOCADO</td>\n",
       "      <td>29773</td>\n",
       "    </tr>\n",
       "    <tr>\n",
       "      <th>5</th>\n",
       "      <td>47766</td>\n",
       "      <td>ORGANIC AVOCADO</td>\n",
       "      <td>24689</td>\n",
       "    </tr>\n",
       "    <tr>\n",
       "      <th>6</th>\n",
       "      <td>47626</td>\n",
       "      <td>LARGE LEMON</td>\n",
       "      <td>21495</td>\n",
       "    </tr>\n",
       "    <tr>\n",
       "      <th>7</th>\n",
       "      <td>16797</td>\n",
       "      <td>STRAWBERRIES</td>\n",
       "      <td>20018</td>\n",
       "    </tr>\n",
       "    <tr>\n",
       "      <th>8</th>\n",
       "      <td>26209</td>\n",
       "      <td>LIMES</td>\n",
       "      <td>19690</td>\n",
       "    </tr>\n",
       "    <tr>\n",
       "      <th>9</th>\n",
       "      <td>27845</td>\n",
       "      <td>ORGANIC WHOLE MILK</td>\n",
       "      <td>19600</td>\n",
       "    </tr>\n",
       "    <tr>\n",
       "      <th>10</th>\n",
       "      <td>27966</td>\n",
       "      <td>ORGANIC RASPBERRIES</td>\n",
       "      <td>19197</td>\n",
       "    </tr>\n",
       "    <tr>\n",
       "      <th>11</th>\n",
       "      <td>22935</td>\n",
       "      <td>ORGANIC YELLOW ONION</td>\n",
       "      <td>15898</td>\n",
       "    </tr>\n",
       "    <tr>\n",
       "      <th>12</th>\n",
       "      <td>24964</td>\n",
       "      <td>ORGANIC GARLIC</td>\n",
       "      <td>15292</td>\n",
       "    </tr>\n",
       "    <tr>\n",
       "      <th>13</th>\n",
       "      <td>45007</td>\n",
       "      <td>ORGANIC ZUCCHINI</td>\n",
       "      <td>14584</td>\n",
       "    </tr>\n",
       "    <tr>\n",
       "      <th>14</th>\n",
       "      <td>39275</td>\n",
       "      <td>ORGANIC BLUEBERRIES</td>\n",
       "      <td>13879</td>\n",
       "    </tr>\n",
       "    <tr>\n",
       "      <th>15</th>\n",
       "      <td>49683</td>\n",
       "      <td>CUCUMBER KIRBY</td>\n",
       "      <td>13675</td>\n",
       "    </tr>\n",
       "    <tr>\n",
       "      <th>16</th>\n",
       "      <td>28204</td>\n",
       "      <td>ORGANIC FUJI APPLE</td>\n",
       "      <td>12544</td>\n",
       "    </tr>\n",
       "    <tr>\n",
       "      <th>17</th>\n",
       "      <td>5876</td>\n",
       "      <td>ORGANIC LEMON</td>\n",
       "      <td>12232</td>\n",
       "    </tr>\n",
       "    <tr>\n",
       "      <th>18</th>\n",
       "      <td>8277</td>\n",
       "      <td>APPLE HONEYCRISP ORGANIC</td>\n",
       "      <td>11993</td>\n",
       "    </tr>\n",
       "    <tr>\n",
       "      <th>19</th>\n",
       "      <td>40706</td>\n",
       "      <td>ORGANIC GRAPE TOMATOES</td>\n",
       "      <td>11781</td>\n",
       "    </tr>\n",
       "  </tbody>\n",
       "</table>\n",
       "</div>"
      ],
      "text/plain": [
       "    product_id              product_name  frecuency\n",
       "0        24852                    BANANA      66050\n",
       "1        13176    BAG OF ORGANIC BANANAS      53297\n",
       "2        21137      ORGANIC STRAWBERRIES      37039\n",
       "3        21903      ORGANIC BABY SPINACH      33971\n",
       "4        47209      ORGANIC HASS AVOCADO      29773\n",
       "5        47766           ORGANIC AVOCADO      24689\n",
       "6        47626               LARGE LEMON      21495\n",
       "7        16797              STRAWBERRIES      20018\n",
       "8        26209                     LIMES      19690\n",
       "9        27845        ORGANIC WHOLE MILK      19600\n",
       "10       27966       ORGANIC RASPBERRIES      19197\n",
       "11       22935      ORGANIC YELLOW ONION      15898\n",
       "12       24964            ORGANIC GARLIC      15292\n",
       "13       45007          ORGANIC ZUCCHINI      14584\n",
       "14       39275       ORGANIC BLUEBERRIES      13879\n",
       "15       49683            CUCUMBER KIRBY      13675\n",
       "16       28204        ORGANIC FUJI APPLE      12544\n",
       "17        5876             ORGANIC LEMON      12232\n",
       "18        8277  APPLE HONEYCRISP ORGANIC      11993\n",
       "19       40706    ORGANIC GRAPE TOMATOES      11781"
      ]
     },
     "metadata": {},
     "output_type": "display_data"
    }
   ],
   "source": [
    "# Frecuencia de cada producto\n",
    "popular_products = df_order_products['product_id'].value_counts()\n",
    "\n",
    "# Los 20 más populares\n",
    "popular_20= popular_products.head(20)\n",
    "\n",
    "# DataFrame con los IDs como nuevos indices y los número de veces que los piden\n",
    "df_popular_20 = pd.DataFrame({'product_id': popular_20.index, 'frecuency': popular_20.values}) \n",
    "\n",
    "# Unión interna con merge\n",
    "\n",
    "popular_20_names_id= df_popular_20.merge(df_products[['product_id', 'product_name']], on='product_id')\n",
    "\n",
    "\n",
    "# Imprimir el resultado\n",
    "display(popular_20_names_id[['product_id', 'product_name', 'frecuency']])"
   ]
  },
  {
   "cell_type": "markdown",
   "id": "7df00f47",
   "metadata": {
    "id": "7df00f47"
   },
   "source": [
    "Escribe aquí tus conclusiones\n",
    "\n",
    "La mayoría de los productos más populares son orgánicos. Apareciendo estos 15 veces entre los 20 productos más populares. Esto podría indicar que los ususarios buscan una alimentación más saludable.\n",
    "\n",
    "Esta información se obtuvo primero filtrando el DataFrame order_products por el id del producto, se utilizó value_counts para ver cuantas veces aparecía cada uno y se tomaron las primeras 20 filas. Estos datos se le asignaron a un nuevo DF llamado df_popular_20. Ya con esto se hizo una union interna entre esta nuevo DF y el DataFrame original en las columnas interesadas 'product_id', 'product_name'."
   ]
  },
  {
   "cell_type": "markdown",
   "id": "gross-theme",
   "metadata": {
    "id": "gross-theme"
   },
   "source": [
    "# [C] Difícil (deben completarse todos para aprobar)\n",
    "\n",
    "1. ¿Cuántos artículos suelen comprar las personas en un pedido? ¿Cómo es la distribución?\n",
    "2. ¿Cuáles son los 20 principales artículos que vuelven a pedirse con mayor frecuencia (muestra sus nombres e IDs de los productos)?\n",
    "3. Para cada producto, ¿cuál es la tasa de repetición del pedido (número de repeticiones de pedido/total de pedidos?\n",
    "4. Para cada cliente, ¿qué proporción de los productos que pidió ya los había pedido? Calcula la tasa de repetición de pedido para cada usuario en lugar de para cada producto.\n",
    "5. ¿Cuáles son los 20 principales artículos que la gente pone primero en sus carritos (muestra las IDs de los productos, sus nombres, y el número de veces en que fueron el primer artículo en añadirse al carrito)?"
   ]
  },
  {
   "cell_type": "markdown",
   "id": "romantic-deposit",
   "metadata": {
    "id": "romantic-deposit"
   },
   "source": [
    "### [C1] ¿Cuántos artículos compran normalmente las personas en un pedido? ¿Cómo es la distribución?"
   ]
  },
  {
   "cell_type": "code",
   "execution_count": null,
   "id": "virtual-punch",
   "metadata": {
    "id": "virtual-punch"
   },
   "outputs": [
    {
     "data": {
      "text/plain": [
       "order_id\n",
       "3421079      1\n",
       "1288686      1\n",
       "1288764      1\n",
       "1288825      1\n",
       "1288873      1\n",
       "          ... \n",
       "1959075     98\n",
       "171934     104\n",
       "2136777    108\n",
       "3308010    115\n",
       "61355      127\n",
       "Name: product_id, Length: 450046, dtype: int64"
      ]
     },
     "metadata": {},
     "output_type": "display_data"
    }
   ],
   "source": [
    "df_order = df_order_products.groupby('order_id')['product_id'].nunique().sort_values()\n",
    "display(df_order)"
   ]
  },
  {
   "cell_type": "code",
   "execution_count": null,
   "id": "sensitive-breathing",
   "metadata": {
    "id": "sensitive-breathing"
   },
   "outputs": [
    {
     "data": {
      "image/png": "[encoded data removed]",
      "text/plain": [
       "<Figure size 720x432 with 1 Axes>"
      ]
     },
     "metadata": {
      "needs_background": "light"
     },
     "output_type": "display_data"
    }
   ],
   "source": [
    "plt.figure(figsize=(10, 6))\n",
    "\n",
    "plt.hist(df_order, bins=30)\n",
    "plt.title('Distribución del Número de Pedidos por Cliente')\n",
    "plt.xlabel('Número de artículos')\n",
    "plt.ylabel('Número de Clientes')\n",
    "plt.show()"
   ]
  },
  {
   "cell_type": "markdown",
   "id": "designed-mortality",
   "metadata": {
    "id": "designed-mortality"
   },
   "source": [
    "Escribe aquí tus conclusiones\n",
    "\n",
    "La mayoría de los clientes compran solo un artículo por compra.\n",
    "A medida que aumenta la cantidad de productos disminuye el número de clientes que hacen compras grandes."
   ]
  },
  {
   "cell_type": "markdown",
   "id": "5e6b5537",
   "metadata": {
    "id": "5e6b5537"
   },
   "source": [
    "### [C2] ¿Cuáles son los 20 principales artículos que vuelven a pedirse con mayor frecuencia (muestra sus nombres e IDs de los productos)?"
   ]
  },
  {
   "cell_type": "code",
   "execution_count": null,
   "id": "9374e55a",
   "metadata": {
    "id": "9374e55a"
   },
   "outputs": [
    {
     "data": {
      "text/html": [
       "<div>\n",
       "<style scoped>\n",
       "    .dataframe tbody tr th:only-of-type {\n",
       "        vertical-align: middle;\n",
       "    }\n",
       "\n",
       "    .dataframe tbody tr th {\n",
       "        vertical-align: top;\n",
       "    }\n",
       "\n",
       "    .dataframe thead th {\n",
       "        text-align: right;\n",
       "    }\n",
       "</style>\n",
       "<table border=\"1\" class=\"dataframe\">\n",
       "  <thead>\n",
       "    <tr style=\"text-align: right;\">\n",
       "      <th></th>\n",
       "      <th>product_id</th>\n",
       "      <th>product_name</th>\n",
       "      <th>frecuency</th>\n",
       "    </tr>\n",
       "  </thead>\n",
       "  <tbody>\n",
       "    <tr>\n",
       "      <th>0</th>\n",
       "      <td>24852</td>\n",
       "      <td>BANANA</td>\n",
       "      <td>55763</td>\n",
       "    </tr>\n",
       "    <tr>\n",
       "      <th>1</th>\n",
       "      <td>13176</td>\n",
       "      <td>BAG OF ORGANIC BANANAS</td>\n",
       "      <td>44450</td>\n",
       "    </tr>\n",
       "    <tr>\n",
       "      <th>2</th>\n",
       "      <td>21137</td>\n",
       "      <td>ORGANIC STRAWBERRIES</td>\n",
       "      <td>28639</td>\n",
       "    </tr>\n",
       "    <tr>\n",
       "      <th>3</th>\n",
       "      <td>21903</td>\n",
       "      <td>ORGANIC BABY SPINACH</td>\n",
       "      <td>26233</td>\n",
       "    </tr>\n",
       "    <tr>\n",
       "      <th>4</th>\n",
       "      <td>47209</td>\n",
       "      <td>ORGANIC HASS AVOCADO</td>\n",
       "      <td>23629</td>\n",
       "    </tr>\n",
       "    <tr>\n",
       "      <th>5</th>\n",
       "      <td>47766</td>\n",
       "      <td>ORGANIC AVOCADO</td>\n",
       "      <td>18743</td>\n",
       "    </tr>\n",
       "    <tr>\n",
       "      <th>6</th>\n",
       "      <td>27845</td>\n",
       "      <td>ORGANIC WHOLE MILK</td>\n",
       "      <td>16251</td>\n",
       "    </tr>\n",
       "    <tr>\n",
       "      <th>7</th>\n",
       "      <td>47626</td>\n",
       "      <td>LARGE LEMON</td>\n",
       "      <td>15044</td>\n",
       "    </tr>\n",
       "    <tr>\n",
       "      <th>8</th>\n",
       "      <td>27966</td>\n",
       "      <td>ORGANIC RASPBERRIES</td>\n",
       "      <td>14748</td>\n",
       "    </tr>\n",
       "    <tr>\n",
       "      <th>9</th>\n",
       "      <td>16797</td>\n",
       "      <td>STRAWBERRIES</td>\n",
       "      <td>13945</td>\n",
       "    </tr>\n",
       "    <tr>\n",
       "      <th>10</th>\n",
       "      <td>26209</td>\n",
       "      <td>LIMES</td>\n",
       "      <td>13327</td>\n",
       "    </tr>\n",
       "    <tr>\n",
       "      <th>11</th>\n",
       "      <td>22935</td>\n",
       "      <td>ORGANIC YELLOW ONION</td>\n",
       "      <td>11145</td>\n",
       "    </tr>\n",
       "    <tr>\n",
       "      <th>12</th>\n",
       "      <td>24964</td>\n",
       "      <td>ORGANIC GARLIC</td>\n",
       "      <td>10411</td>\n",
       "    </tr>\n",
       "    <tr>\n",
       "      <th>13</th>\n",
       "      <td>45007</td>\n",
       "      <td>ORGANIC ZUCCHINI</td>\n",
       "      <td>10076</td>\n",
       "    </tr>\n",
       "    <tr>\n",
       "      <th>14</th>\n",
       "      <td>49683</td>\n",
       "      <td>CUCUMBER KIRBY</td>\n",
       "      <td>9538</td>\n",
       "    </tr>\n",
       "    <tr>\n",
       "      <th>15</th>\n",
       "      <td>28204</td>\n",
       "      <td>ORGANIC FUJI APPLE</td>\n",
       "      <td>8989</td>\n",
       "    </tr>\n",
       "    <tr>\n",
       "      <th>16</th>\n",
       "      <td>8277</td>\n",
       "      <td>APPLE HONEYCRISP ORGANIC</td>\n",
       "      <td>8836</td>\n",
       "    </tr>\n",
       "    <tr>\n",
       "      <th>17</th>\n",
       "      <td>39275</td>\n",
       "      <td>ORGANIC BLUEBERRIES</td>\n",
       "      <td>8799</td>\n",
       "    </tr>\n",
       "    <tr>\n",
       "      <th>18</th>\n",
       "      <td>5876</td>\n",
       "      <td>ORGANIC LEMON</td>\n",
       "      <td>8412</td>\n",
       "    </tr>\n",
       "    <tr>\n",
       "      <th>19</th>\n",
       "      <td>49235</td>\n",
       "      <td>ORGANIC HALF &amp; HALF</td>\n",
       "      <td>8389</td>\n",
       "    </tr>\n",
       "  </tbody>\n",
       "</table>\n",
       "</div>"
      ],
      "text/plain": [
       "    product_id              product_name  frecuency\n",
       "0        24852                    BANANA      55763\n",
       "1        13176    BAG OF ORGANIC BANANAS      44450\n",
       "2        21137      ORGANIC STRAWBERRIES      28639\n",
       "3        21903      ORGANIC BABY SPINACH      26233\n",
       "4        47209      ORGANIC HASS AVOCADO      23629\n",
       "5        47766           ORGANIC AVOCADO      18743\n",
       "6        27845        ORGANIC WHOLE MILK      16251\n",
       "7        47626               LARGE LEMON      15044\n",
       "8        27966       ORGANIC RASPBERRIES      14748\n",
       "9        16797              STRAWBERRIES      13945\n",
       "10       26209                     LIMES      13327\n",
       "11       22935      ORGANIC YELLOW ONION      11145\n",
       "12       24964            ORGANIC GARLIC      10411\n",
       "13       45007          ORGANIC ZUCCHINI      10076\n",
       "14       49683            CUCUMBER KIRBY       9538\n",
       "15       28204        ORGANIC FUJI APPLE       8989\n",
       "16        8277  APPLE HONEYCRISP ORGANIC       8836\n",
       "17       39275       ORGANIC BLUEBERRIES       8799\n",
       "18        5876             ORGANIC LEMON       8412\n",
       "19       49235       ORGANIC HALF & HALF       8389"
      ]
     },
     "metadata": {},
     "output_type": "display_data"
    }
   ],
   "source": [
    "#Unión DF order_products y products\n",
    "\n",
    "df_merged = df_order_products.merge(df_products[['product_id', 'product_name']], on = 'product_id')\n",
    "\n",
    "#Filtrar pedidos que han sido re ordenados, reordered == 1 si lo ha pedido.\n",
    "\n",
    "reordered_products = df_merged[df_merged['reordered'] == 1]\n",
    "\n",
    "#Contar cuantos productos han sido re ordenados\n",
    "\n",
    "reordered_products_frecuency = reordered_products['product_id'].value_counts()\n",
    "\n",
    "# Los 20 más pedidos\n",
    "\n",
    "reordered_products_20 = reordered_products_frecuency.head(20)\n",
    "\n",
    "#construir un nuevo DataFrame con esos IDs como nuevos indices y la frecuencia como valores\n",
    "\n",
    "df_reordered_20 = pd.DataFrame({'product_id': reordered_products_20.index, 'frecuency': reordered_products_20.values})\n",
    "\n",
    "#Unión interna los 20 productos más reordenados con los nombres de los productos\n",
    "\n",
    "top_20 = df_reordered_20.merge(df_products[['product_id', 'product_name']], on = 'product_id')\n",
    "\n",
    "\n",
    "display(top_20[['product_id', 'product_name', 'frecuency']])\n"
   ]
  },
  {
   "cell_type": "markdown",
   "id": "80e70c74",
   "metadata": {
    "id": "80e70c74"
   },
   "source": [
    "Escribe aquí tus conclusiones\n",
    "\n",
    "El artículo que más vuelven a comprar las personas son las bananas.\n",
    "\n",
    "La mayoría de los artículos reordenados más populares son orgánicos. Apareciendo estos 15 veces entre los 20 productos más reordenados, esto concuerda con la información anteriormente encontrada en donde los productos más comprados son los orgánicos. Esto podría reafirmar la hipótesis de que los ususarios buscan una alimentación más saludable."
   ]
  },
  {
   "cell_type": "markdown",
   "id": "9d312b14",
   "metadata": {
    "id": "9d312b14"
   },
   "source": [
    "### [C3] Para cada producto, ¿cuál es la proporción de las veces que se pide y que se vuelve a pedir?"
   ]
  },
  {
   "cell_type": "code",
   "execution_count": null,
   "id": "8ae9f4b1",
   "metadata": {
    "id": "8ae9f4b1"
   },
   "outputs": [
    {
     "data": {
      "text/html": [
       "<div>\n",
       "<style scoped>\n",
       "    .dataframe tbody tr th:only-of-type {\n",
       "        vertical-align: middle;\n",
       "    }\n",
       "\n",
       "    .dataframe tbody tr th {\n",
       "        vertical-align: top;\n",
       "    }\n",
       "\n",
       "    .dataframe thead th {\n",
       "        text-align: right;\n",
       "    }\n",
       "</style>\n",
       "<table border=\"1\" class=\"dataframe\">\n",
       "  <thead>\n",
       "    <tr style=\"text-align: right;\">\n",
       "      <th></th>\n",
       "      <th>product_name</th>\n",
       "      <th>ratio</th>\n",
       "    </tr>\n",
       "  </thead>\n",
       "  <tbody>\n",
       "    <tr>\n",
       "      <th>0</th>\n",
       "      <td>#2 COFFEE FILTERS</td>\n",
       "      <td>0.254545</td>\n",
       "    </tr>\n",
       "    <tr>\n",
       "      <th>1</th>\n",
       "      <td>#2 CONE WHITE COFFEE FILTERS</td>\n",
       "      <td>0.000000</td>\n",
       "    </tr>\n",
       "    <tr>\n",
       "      <th>2</th>\n",
       "      <td>#2 MECHANICAL PENCILS</td>\n",
       "      <td>0.000000</td>\n",
       "    </tr>\n",
       "    <tr>\n",
       "      <th>3</th>\n",
       "      <td>#4 NATURAL BROWN COFFEE FILTERS</td>\n",
       "      <td>0.358974</td>\n",
       "    </tr>\n",
       "    <tr>\n",
       "      <th>4</th>\n",
       "      <td>&amp; GO! HAZELNUT SPREAD + PRETZEL STICKS</td>\n",
       "      <td>0.466667</td>\n",
       "    </tr>\n",
       "    <tr>\n",
       "      <th>...</th>\n",
       "      <td>...</td>\n",
       "      <td>...</td>\n",
       "    </tr>\n",
       "    <tr>\n",
       "      <th>44513</th>\n",
       "      <td>\\\"DARN GOOD\\\" CHILI MIX</td>\n",
       "      <td>0.400000</td>\n",
       "    </tr>\n",
       "    <tr>\n",
       "      <th>44514</th>\n",
       "      <td>\\\"IM PEI-NUT BUTTER\\\" DOUBLE CHOCOLATE COOKIE ...</td>\n",
       "      <td>0.400000</td>\n",
       "    </tr>\n",
       "    <tr>\n",
       "      <th>44515</th>\n",
       "      <td>\\\"LOUIS BA-KAHN\\\" CHOCOLATE CHIP COOKIE &amp; BROW...</td>\n",
       "      <td>0.000000</td>\n",
       "    </tr>\n",
       "    <tr>\n",
       "      <th>44516</th>\n",
       "      <td>\\\"MIES VANILLA ROHE\\\" ICE CREAM BARS</td>\n",
       "      <td>0.500000</td>\n",
       "    </tr>\n",
       "    <tr>\n",
       "      <th>44517</th>\n",
       "      <td>\\\"MOKACCINO\\\" MILK + BLUE BOTTLE COFFEE CHOCOLATE</td>\n",
       "      <td>0.711538</td>\n",
       "    </tr>\n",
       "  </tbody>\n",
       "</table>\n",
       "<p>44518 rows × 2 columns</p>\n",
       "</div>"
      ],
      "text/plain": [
       "                                            product_name     ratio\n",
       "0                                      #2 COFFEE FILTERS  0.254545\n",
       "1                           #2 CONE WHITE COFFEE FILTERS  0.000000\n",
       "2                                  #2 MECHANICAL PENCILS  0.000000\n",
       "3                        #4 NATURAL BROWN COFFEE FILTERS  0.358974\n",
       "4                 & GO! HAZELNUT SPREAD + PRETZEL STICKS  0.466667\n",
       "...                                                  ...       ...\n",
       "44513                            \\\"DARN GOOD\\\" CHILI MIX  0.400000\n",
       "44514  \\\"IM PEI-NUT BUTTER\\\" DOUBLE CHOCOLATE COOKIE ...  0.400000\n",
       "44515  \\\"LOUIS BA-KAHN\\\" CHOCOLATE CHIP COOKIE & BROW...  0.000000\n",
       "44516               \\\"MIES VANILLA ROHE\\\" ICE CREAM BARS  0.500000\n",
       "44517  \\\"MOKACCINO\\\" MILK + BLUE BOTTLE COFFEE CHOCOLATE  0.711538\n",
       "\n",
       "[44518 rows x 2 columns]"
      ]
     },
     "metadata": {},
     "output_type": "display_data"
    },
    {
     "data": {
      "text/plain": [
       "1.0"
      ]
     },
     "metadata": {},
     "output_type": "display_data"
    },
    {
     "data": {
      "text/plain": [
       "0.0"
      ]
     },
     "metadata": {},
     "output_type": "display_data"
    },
    {
     "data": {
      "text/plain": [
       "0.3894848065925808"
      ]
     },
     "metadata": {},
     "output_type": "display_data"
    }
   ],
   "source": [
    "#Inner union de los DF order_products y products por las columnas products_id y product_name\n",
    "merged_info = df_order_products.merge(df_products[['product_id', 'product_name']], on = 'product_id')\n",
    "\n",
    "\n",
    "#Funcion para contar el número de veces que se pide un producto y el número de veces que se reordena\n",
    "grp = merged_info.groupby('product_name')['reordered'].agg(['count', 'sum']).reset_index()\n",
    "\n",
    "#Crear las nuevas columnas para la función anterior\n",
    "\n",
    "grp.columns = ['product_name', 'count_orders', 'reordered']\n",
    "\n",
    "#Calcular la proporción de las veces que se pide y se vuelve a pedir un producto\n",
    "\n",
    "grp['ratio'] = (grp['reordered'] /  grp['count_orders'])\n",
    "\n",
    "\n",
    "display(grp[['product_name', 'ratio']])\n",
    "\n",
    "\n",
    "display(grp['ratio'].max())\n",
    "\n",
    "display(grp['ratio'].min())\n",
    "\n",
    "\n",
    "display(grp['ratio'].mean())\n"
   ]
  },
  {
   "cell_type": "markdown",
   "id": "I10dEIAyldcO",
   "metadata": {
    "id": "I10dEIAyldcO"
   },
   "source": [
    "Escribe aquí tus conclusiones\n",
    "\n",
    "El promedio de la proporcion de las veces que se pide y se vuelve a pedir un producto es de 0.389 aprox 38.94%, lo que equivale a una proporcion baja. Agunos productos como el Vodka, potato chips, cheddar cheese tienen una proporcion de 1, lo que quiere decir que son productos que se compran y se vuelven a comprar. A diferencia de diferentes tipos de green Tea que solo se pidieron una vez y no los volvieron a pedir. Se puede plantear la hipótesis de que los primeros productos que tienen una proporción de 1 los vuelven a pedir porque son productos que se consumen rápidamente, a diferencia del Té que no es comunmente consumido.\n",
    "\n"
   ]
  },
  {
   "cell_type": "markdown",
   "id": "subject-boxing",
   "metadata": {
    "id": "subject-boxing"
   },
   "source": [
    "### [C4] Para cada cliente, ¿qué proporción de sus productos ya los había pedido?"
   ]
  },
  {
   "cell_type": "code",
   "execution_count": null,
   "id": "medical-couple",
   "metadata": {
    "id": "medical-couple",
    "scrolled": true
   },
   "outputs": [
    {
     "data": {
      "text/html": [
       "<div>\n",
       "<style scoped>\n",
       "    .dataframe tbody tr th:only-of-type {\n",
       "        vertical-align: middle;\n",
       "    }\n",
       "\n",
       "    .dataframe tbody tr th {\n",
       "        vertical-align: top;\n",
       "    }\n",
       "\n",
       "    .dataframe thead th {\n",
       "        text-align: right;\n",
       "    }\n",
       "</style>\n",
       "<table border=\"1\" class=\"dataframe\">\n",
       "  <thead>\n",
       "    <tr style=\"text-align: right;\">\n",
       "      <th></th>\n",
       "      <th>user_id</th>\n",
       "      <th>ratio2</th>\n",
       "    </tr>\n",
       "  </thead>\n",
       "  <tbody>\n",
       "    <tr>\n",
       "      <th>0</th>\n",
       "      <td>2</td>\n",
       "      <td>0.038462</td>\n",
       "    </tr>\n",
       "    <tr>\n",
       "      <th>1</th>\n",
       "      <td>4</td>\n",
       "      <td>0.000000</td>\n",
       "    </tr>\n",
       "    <tr>\n",
       "      <th>2</th>\n",
       "      <td>5</td>\n",
       "      <td>0.666667</td>\n",
       "    </tr>\n",
       "    <tr>\n",
       "      <th>3</th>\n",
       "      <td>6</td>\n",
       "      <td>0.000000</td>\n",
       "    </tr>\n",
       "    <tr>\n",
       "      <th>4</th>\n",
       "      <td>7</td>\n",
       "      <td>0.928571</td>\n",
       "    </tr>\n",
       "    <tr>\n",
       "      <th>...</th>\n",
       "      <td>...</td>\n",
       "      <td>...</td>\n",
       "    </tr>\n",
       "    <tr>\n",
       "      <th>149621</th>\n",
       "      <td>206203</td>\n",
       "      <td>0.222222</td>\n",
       "    </tr>\n",
       "    <tr>\n",
       "      <th>149622</th>\n",
       "      <td>206206</td>\n",
       "      <td>0.714286</td>\n",
       "    </tr>\n",
       "    <tr>\n",
       "      <th>149623</th>\n",
       "      <td>206207</td>\n",
       "      <td>0.891304</td>\n",
       "    </tr>\n",
       "    <tr>\n",
       "      <th>149624</th>\n",
       "      <td>206208</td>\n",
       "      <td>0.696000</td>\n",
       "    </tr>\n",
       "    <tr>\n",
       "      <th>149625</th>\n",
       "      <td>206209</td>\n",
       "      <td>0.320000</td>\n",
       "    </tr>\n",
       "  </tbody>\n",
       "</table>\n",
       "<p>149626 rows × 2 columns</p>\n",
       "</div>"
      ],
      "text/plain": [
       "        user_id    ratio2\n",
       "0             2  0.038462\n",
       "1             4  0.000000\n",
       "2             5  0.666667\n",
       "3             6  0.000000\n",
       "4             7  0.928571\n",
       "...         ...       ...\n",
       "149621   206203  0.222222\n",
       "149622   206206  0.714286\n",
       "149623   206207  0.891304\n",
       "149624   206208  0.696000\n",
       "149625   206209  0.320000\n",
       "\n",
       "[149626 rows x 2 columns]"
      ]
     },
     "metadata": {},
     "output_type": "display_data"
    },
    {
     "data": {
      "text/plain": [
       "1.0"
      ]
     },
     "metadata": {},
     "output_type": "display_data"
    },
    {
     "data": {
      "text/plain": [
       "0.0"
      ]
     },
     "metadata": {},
     "output_type": "display_data"
    },
    {
     "data": {
      "text/plain": [
       "0.4948531736151642"
      ]
     },
     "metadata": {},
     "output_type": "display_data"
    }
   ],
   "source": [
    "#Inner union de los DF order_products y products por las columnas products_id y product_name\n",
    "merged_client = df_order_products.merge(df_instacart_orders[['order_id', 'user_id']], on = 'order_id')\n",
    "\n",
    "\n",
    "#Funcion para contar el número de veces que se pide un producto y el número de veces que se reordena\n",
    "grp_client = merged_client.groupby('user_id')['reordered'].agg(['count', 'sum']).reset_index()\n",
    "\n",
    "#Crear las nuevas columnas para la función anterior\n",
    "\n",
    "grp_client.columns = ['user_id', 'count_orders', 'reordered']\n",
    "\n",
    "#Calcular la proporción de las veces que se pide y se vuelve a pedir un producto\n",
    "\n",
    "grp_client['ratio2'] = (grp_client['reordered'] /  grp_client['count_orders'])\n",
    "\n",
    "\n",
    "display(grp_client[['user_id', 'ratio2']])\n",
    "\n",
    "\n",
    "display(grp_client['ratio2'].max())\n",
    "\n",
    "display(grp_client['ratio2'].min())\n",
    "\n",
    "\n",
    "display(grp_client['ratio2'].mean())\n"
   ]
  },
  {
   "cell_type": "markdown",
   "id": "BgJSvXDsleXz",
   "metadata": {
    "id": "BgJSvXDsleXz"
   },
   "source": [
    "Escribe aquí tus conclusiones\n",
    "\n",
    "\n",
    "El promedio de la proporción de un cliente que vuelve a pedir un producto que ya había pedido es de 0.4948 aprox 49.48%, lo que quiere decir que aproximadamente la mitad de los clientes vuelven a pedir un producto adquirido con anterioridad. Una hipótesis para esto es que al distribuir productos de la canasta familiar (víveres) y licor, se consumen con frecuencia lo que hace que el usuario compre en reiteradas veces el mismo producto.\n"
   ]
  },
  {
   "cell_type": "markdown",
   "id": "92d35137",
   "metadata": {
    "id": "92d35137"
   },
   "source": [
    "### [C5] ¿Cuáles son los 20 principales artículos que las personas ponen primero en sus carritos?"
   ]
  },
  {
   "cell_type": "code",
   "execution_count": null,
   "id": "0ae57274",
   "metadata": {
    "id": "0ae57274",
    "scrolled": true
   },
   "outputs": [
    {
     "data": {
      "text/html": [
       "<div>\n",
       "<style scoped>\n",
       "    .dataframe tbody tr th:only-of-type {\n",
       "        vertical-align: middle;\n",
       "    }\n",
       "\n",
       "    .dataframe tbody tr th {\n",
       "        vertical-align: top;\n",
       "    }\n",
       "\n",
       "    .dataframe thead th {\n",
       "        text-align: right;\n",
       "    }\n",
       "</style>\n",
       "<table border=\"1\" class=\"dataframe\">\n",
       "  <thead>\n",
       "    <tr style=\"text-align: right;\">\n",
       "      <th></th>\n",
       "      <th>product_id</th>\n",
       "      <th>product_name</th>\n",
       "      <th>frecuency</th>\n",
       "    </tr>\n",
       "  </thead>\n",
       "  <tbody>\n",
       "    <tr>\n",
       "      <th>0</th>\n",
       "      <td>24852</td>\n",
       "      <td>BANANA</td>\n",
       "      <td>15562</td>\n",
       "    </tr>\n",
       "    <tr>\n",
       "      <th>1</th>\n",
       "      <td>13176</td>\n",
       "      <td>BAG OF ORGANIC BANANAS</td>\n",
       "      <td>11026</td>\n",
       "    </tr>\n",
       "    <tr>\n",
       "      <th>2</th>\n",
       "      <td>27845</td>\n",
       "      <td>ORGANIC WHOLE MILK</td>\n",
       "      <td>4363</td>\n",
       "    </tr>\n",
       "    <tr>\n",
       "      <th>3</th>\n",
       "      <td>21137</td>\n",
       "      <td>ORGANIC STRAWBERRIES</td>\n",
       "      <td>3946</td>\n",
       "    </tr>\n",
       "    <tr>\n",
       "      <th>4</th>\n",
       "      <td>47209</td>\n",
       "      <td>ORGANIC HASS AVOCADO</td>\n",
       "      <td>3390</td>\n",
       "    </tr>\n",
       "    <tr>\n",
       "      <th>5</th>\n",
       "      <td>21903</td>\n",
       "      <td>ORGANIC BABY SPINACH</td>\n",
       "      <td>3336</td>\n",
       "    </tr>\n",
       "    <tr>\n",
       "      <th>6</th>\n",
       "      <td>47766</td>\n",
       "      <td>ORGANIC AVOCADO</td>\n",
       "      <td>3044</td>\n",
       "    </tr>\n",
       "    <tr>\n",
       "      <th>7</th>\n",
       "      <td>19660</td>\n",
       "      <td>SPRING WATER</td>\n",
       "      <td>2336</td>\n",
       "    </tr>\n",
       "    <tr>\n",
       "      <th>8</th>\n",
       "      <td>16797</td>\n",
       "      <td>STRAWBERRIES</td>\n",
       "      <td>2308</td>\n",
       "    </tr>\n",
       "    <tr>\n",
       "      <th>9</th>\n",
       "      <td>27966</td>\n",
       "      <td>ORGANIC RASPBERRIES</td>\n",
       "      <td>2024</td>\n",
       "    </tr>\n",
       "    <tr>\n",
       "      <th>10</th>\n",
       "      <td>44632</td>\n",
       "      <td>SPARKLING WATER GRAPEFRUIT</td>\n",
       "      <td>1914</td>\n",
       "    </tr>\n",
       "    <tr>\n",
       "      <th>11</th>\n",
       "      <td>49235</td>\n",
       "      <td>ORGANIC HALF &amp; HALF</td>\n",
       "      <td>1797</td>\n",
       "    </tr>\n",
       "    <tr>\n",
       "      <th>12</th>\n",
       "      <td>47626</td>\n",
       "      <td>LARGE LEMON</td>\n",
       "      <td>1737</td>\n",
       "    </tr>\n",
       "    <tr>\n",
       "      <th>13</th>\n",
       "      <td>196</td>\n",
       "      <td>SODA</td>\n",
       "      <td>1733</td>\n",
       "    </tr>\n",
       "    <tr>\n",
       "      <th>14</th>\n",
       "      <td>38689</td>\n",
       "      <td>ORGANIC REDUCED FAT MILK</td>\n",
       "      <td>1397</td>\n",
       "    </tr>\n",
       "    <tr>\n",
       "      <th>15</th>\n",
       "      <td>26209</td>\n",
       "      <td>LIMES</td>\n",
       "      <td>1370</td>\n",
       "    </tr>\n",
       "    <tr>\n",
       "      <th>16</th>\n",
       "      <td>12341</td>\n",
       "      <td>HASS AVOCADOS</td>\n",
       "      <td>1340</td>\n",
       "    </tr>\n",
       "    <tr>\n",
       "      <th>17</th>\n",
       "      <td>5785</td>\n",
       "      <td>ORGANIC REDUCED FAT 2% MILK</td>\n",
       "      <td>1310</td>\n",
       "    </tr>\n",
       "    <tr>\n",
       "      <th>18</th>\n",
       "      <td>27086</td>\n",
       "      <td>HALF &amp; HALF</td>\n",
       "      <td>1309</td>\n",
       "    </tr>\n",
       "    <tr>\n",
       "      <th>19</th>\n",
       "      <td>22935</td>\n",
       "      <td>ORGANIC YELLOW ONION</td>\n",
       "      <td>1246</td>\n",
       "    </tr>\n",
       "  </tbody>\n",
       "</table>\n",
       "</div>"
      ],
      "text/plain": [
       "    product_id                 product_name  frecuency\n",
       "0        24852                       BANANA      15562\n",
       "1        13176       BAG OF ORGANIC BANANAS      11026\n",
       "2        27845           ORGANIC WHOLE MILK       4363\n",
       "3        21137         ORGANIC STRAWBERRIES       3946\n",
       "4        47209         ORGANIC HASS AVOCADO       3390\n",
       "5        21903         ORGANIC BABY SPINACH       3336\n",
       "6        47766              ORGANIC AVOCADO       3044\n",
       "7        19660                 SPRING WATER       2336\n",
       "8        16797                 STRAWBERRIES       2308\n",
       "9        27966          ORGANIC RASPBERRIES       2024\n",
       "10       44632   SPARKLING WATER GRAPEFRUIT       1914\n",
       "11       49235          ORGANIC HALF & HALF       1797\n",
       "12       47626                  LARGE LEMON       1737\n",
       "13         196                         SODA       1733\n",
       "14       38689     ORGANIC REDUCED FAT MILK       1397\n",
       "15       26209                        LIMES       1370\n",
       "16       12341                HASS AVOCADOS       1340\n",
       "17        5785  ORGANIC REDUCED FAT 2% MILK       1310\n",
       "18       27086                  HALF & HALF       1309\n",
       "19       22935         ORGANIC YELLOW ONION       1246"
      ]
     },
     "metadata": {},
     "output_type": "display_data"
    }
   ],
   "source": [
    "add_to_cart = df_order_products.merge(df_products[['product_id', 'product_name']], on = 'product_id')\n",
    "\n",
    "#Identifica solo los que fueron añadidos de primero a al carrito\n",
    "\n",
    "count_add_to_cart = add_to_cart[add_to_cart['add_to_cart_order'] == 1]\n",
    "\n",
    "#Contabilizar los primeros 20\n",
    "\n",
    "top20_add_to_cart = count_add_to_cart['product_id'].value_counts().head(20)\n",
    "\n",
    "#construir un nuevo DataFrame con esos IDs como nuevos indices y la frecuencia como valores\n",
    "\n",
    "df_add_to_cart = pd.DataFrame({'product_id': top20_add_to_cart.index, 'frecuency': top20_add_to_cart.values})\n",
    "\n",
    "#inner union de los 20 productos que los usuarios ingresan primero al carrito con los nombres de los productos\n",
    "\n",
    "top20_products = df_add_to_cart.merge(df_products[['product_id', 'product_name']], on = 'product_id')\n",
    "\n",
    "\n",
    "display(top20_products[['product_id', 'product_name', 'frecuency']])\n",
    "\n"
   ]
  },
  {
   "cell_type": "markdown",
   "id": "28ce9872",
   "metadata": {
    "id": "28ce9872"
   },
   "source": [
    "Escribe aquí tus conclusiones\n",
    "\n",
    "El producto que  la mayoría de los usuarios agregan primero a sus carritos en la banana, habiendolo agregado como primer artículo 15562 veces. "
   ]
  },
  {
   "cell_type": "markdown",
   "id": "uITbFCEoDosC",
   "metadata": {
    "id": "uITbFCEoDosC"
   },
   "source": [
    "### Conclusion general del proyecto:"
   ]
  },
  {
   "cell_type": "markdown",
   "id": "4eab6bb6",
   "metadata": {
    "id": "28ce9872"
   },
   "source": [
    "Para iniciar el procesamiento de datos lo primero que se hizo fue obtener información sobre qué datos teníamos, el tipo de datos, cantidad de columnas, si habían valores duplicados o ausentes.\n",
    "\n",
    "Después con esta información se hizo una limpieza, se eliminaron los duplicados, se observó si habían patrones en esos datos duplicados\n",
    "Por ejemplo: \n",
    "En el DataFrame instacart_orders\n",
    "\n",
    "Las filas duplicadas se debín al día 3, que sería el miércoles y al 2 que sería la hora en la que se hizo el pedido. Sumando las 15 repeticiones.\n",
    "\n",
    "Después de todo este proceso, se realizó el análisis de los datos.\n",
    "\n",
    "De este se obtuvieron varias conclusiones generales:\n",
    "\n",
    "- La mayoría de las  personas realizan pedidos entre las 10 de la mañana y las 3 de la tarde, comprando víveres en su mayoría el día domingo\n",
    "\n",
    "- El maximo de días que una persona espera para hacer un nuevo pedido son 30 días, seguido de 7 días. Esto debe deberse a que hay personas que realizan la compra de su comida semanal por medio de estas aplicaciones, lo que explicaría que el segundo valor sean 7 días.\n",
    "\n",
    "- Por lo general el día sábado y miércoles tienen la misma actividad de compras, excepto por lsa horas del medio día. Se postuló la hipótesis de que pueda deberse a que al ser fin de semana las personas tienen más tiempo de hacer sus comprar en estos horarios, a diferencia del día mércoles en los que en ese horario probablemente estén en su hora de almuerzo para continuar trabajando. \n",
    "\n",
    "- El producto que las personas compran con mayor frecuencia es la banana, y también es el artículo que más recompras tiene, además es el también el producto que los usuarios agregan primero a sus carritos.\n"
   ]
  }
 ],
 "metadata": {
  "colab": {
   "provenance": []
  },
  "kernelspec": {
   "display_name": "Python 3 (ipykernel)",
   "language": "python",
   "name": "python3"
  },
  "language_info": {
   "codemirror_mode": {
    "name": "ipython",
    "version": 3
   },
   "file_extension": ".py",
   "mimetype": "text/x-python",
   "name": "python",
   "nbconvert_exporter": "python",
   "pygments_lexer": "ipython3",
   "version": "3.12.2"
  },
  "toc": {
   "base_numbering": 1,
   "nav_menu": {},
   "number_sections": true,
   "sideBar": true,
   "skip_h1_title": true,
   "title_cell": "Table of Contents",
   "title_sidebar": "Contents",
   "toc_cell": false,
   "toc_position": {},
   "toc_section_display": true,
   "toc_window_display": false
  },
  "vscode": {
   "interpreter": {
    "hash": "01a7be9ec63e704a62cefc5fe7a4756944464ee731be31632bdf42a4cb4688cf"
   }
  }
 },
 "nbformat": 4,
 "nbformat_minor": 5
}
